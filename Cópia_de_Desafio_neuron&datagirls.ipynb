{
  "nbformat": 4,
  "nbformat_minor": 0,
  "metadata": {
    "colab": {
      "name": "Cópia de Desafio_neuron&datagirls.ipynb",
      "provenance": [],
      "collapsed_sections": [
        "5W1m6BHGSMVX",
        "arMQ31WXeE0N",
        "v7ZKeSJZNt3G",
        "jItATU9mOAFr",
        "PI5gDEzBOMuM"
      ],
      "include_colab_link": true
    },
    "kernelspec": {
      "name": "python3",
      "display_name": "Python 3"
    },
    "language_info": {
      "name": "python"
    }
  },
  "cells": [
    {
      "cell_type": "markdown",
      "metadata": {
        "id": "view-in-github",
        "colab_type": "text"
      },
      "source": [
        "<a href=\"https://colab.research.google.com/github/LarisseDepa/bootcamp-neuron.datagirls/blob/main/C%C3%B3pia_de_Desafio_neuron%26datagirls.ipynb\" target=\"_parent\"><img src=\"https://colab.research.google.com/assets/colab-badge.svg\" alt=\"Open In Colab\"/></a>"
      ]
    },
    {
      "cell_type": "markdown",
      "metadata": {
        "id": "9VJ_h9F-_G-t"
      },
      "source": [
        "# Desafio - **Bootcamp Data Science na Prática II**\n",
        "### Vou apresentar alguns dados que podem mudar sua percepção sobre avocados... ***Vamos lá!?***\n",
        "\n",
        "<p><img alt=\"avocado\" height=\"400px\" src= https://media0.giphy.com/media/tKyjLe3Nyy0tyLQStO/giphy.gif?cid=dc79c3575d0f20d858796e48777db7bd&rid=giphy.gif align=\"center\"></p>"
      ]
    },
    {
      "cell_type": "markdown",
      "metadata": {
        "id": "6dBoCaJp1TZp"
      },
      "source": [
        "\n",
        "### **Você acha que o avocado é um simples fruta tropical ou uma importante fruta para enconomia?**\n",
        "\n",
        "#### Um fato curioso é:\n",
        "\n",
        "> *Na pandemia, o consumo de avocados disparou na Europa e EUA,o que impulsinou o crescimento de empresas como a Mission Produce - a maior produtora de avocados dos EUA  que estreou na bolsa americana  valendo US$800 milhões.** [INFOMONEY](https://braziljournal.com/o-ipo-do-abacate) [Brazil journal](https://braziljournal.com/o-ipo-do-abacate)\n",
        "\n",
        "\n",
        "#### Nos EUA  o avocado movimenta o crescimento ecônimico de várias formas, por exemplo:\n",
        "\n",
        "- bilhões em produção ou gastos\n",
        "- bilhões para o PIB dos EUA (valor agregado)\n",
        "- milhares de empregos para trabalhadores americanos\n",
        "- bilhões em renda do trabalho\n",
        "- bilhões em impostos\n",
        "\n",
        "[prnewswire](https://www.prnewswire.com/news-releases/americas-love-of-avocados-drives-economic-growth-on-both-sides-of-the-border-301185863.html)\n",
        "\n",
        "> *O setor já movimenta US$  6 bilhões / anos nos EUA - quase metade de todo o mercado global e acredita-se que irá ultrapassar 8 bilhões em 2023.* \n",
        "[Brazil journal](https://braziljournal.com/o-ipo-do-abacate)\n",
        "\n",
        "\n",
        "\n",
        "\n",
        "#### **Mas será que mais análises dos dados históricos sobre preços e volume de vendas de avocados em vários mercados dos EUA, poderia ajudar com novos insights sobre esse setor?**"
      ]
    },
    {
      "cell_type": "markdown",
      "metadata": {
        "id": "HRY5DSCcWdzC"
      },
      "source": [
        "O dataset está disponível em : https://www.kaggle.com/neuromusic/avocado-prices"
      ]
    },
    {
      "cell_type": "markdown",
      "metadata": {
        "id": "mgwY-L5BE9gz"
      },
      "source": [
        "#**Pré-processamento**"
      ]
    },
    {
      "cell_type": "markdown",
      "metadata": {
        "id": "ch17OikZFDhk"
      },
      "source": [
        "## **Análise Exploratória**\n"
      ]
    },
    {
      "cell_type": "markdown",
      "metadata": {
        "id": "WsIWkkAxFKxJ"
      },
      "source": [
        "\n",
        "### **Carregamento dos dados**"
      ]
    },
    {
      "cell_type": "code",
      "metadata": {
        "colab": {
          "resources": {
            "http://localhost:8080/nbextensions/google.colab/files.js": {
              "data": "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",
              "ok": true,
              "headers": [
                [
                  "content-type",
                  "application/javascript"
                ]
              ],
              "status": 200,
              "status_text": ""
            }
          },
          "base_uri": "https://localhost:8080/",
          "height": 72
        },
        "id": "Q0_w9HVkKZB8",
        "outputId": "784ec9bc-5336-4173-9558-d8a8f4ac2162"
      },
      "source": [
        "# Importação de bibliotecas\n",
        "import pandas as pd           # Renomeando a biblioteca pandas para pd\n",
        "import numpy as np            # Renomeando a biblioteca numpy para np\n",
        "\n",
        "\n",
        "# Importa o arquivo CSV para o ambiente do Colab.\n",
        "from google.colab import files\n",
        "files.upload()\n",
        "\n",
        " # Criando um DataFrame\n",
        "avocado_df = pd.read_csv('avocado.csv',delimiter =',')"
      ],
      "execution_count": null,
      "outputs": [
        {
          "output_type": "display_data",
          "data": {
            "text/html": [
              "\n",
              "     <input type=\"file\" id=\"files-cc1de7ef-74d0-4324-9157-0c3c2892bc90\" name=\"files[]\" multiple disabled\n",
              "        style=\"border:none\" />\n",
              "     <output id=\"result-cc1de7ef-74d0-4324-9157-0c3c2892bc90\">\n",
              "      Upload widget is only available when the cell has been executed in the\n",
              "      current browser session. Please rerun this cell to enable.\n",
              "      </output>\n",
              "      <script src=\"/nbextensions/google.colab/files.js\"></script> "
            ],
            "text/plain": [
              "<IPython.core.display.HTML object>"
            ]
          },
          "metadata": {}
        },
        {
          "output_type": "stream",
          "name": "stdout",
          "text": [
            "Saving avocado.csv to avocado (1).csv\n"
          ]
        }
      ]
    },
    {
      "cell_type": "code",
      "metadata": {
        "colab": {
          "base_uri": "https://localhost:8080/",
          "height": 359
        },
        "id": "SITawZy7Km9E",
        "outputId": "090c83f6-5ff2-427e-d30e-226525eac180"
      },
      "source": [
        "# Verificandos as 10 primeiras linhas do DataFrame.\n",
        "avocado_df.head(10)"
      ],
      "execution_count": null,
      "outputs": [
        {
          "output_type": "execute_result",
          "data": {
            "text/html": [
              "<div>\n",
              "<style scoped>\n",
              "    .dataframe tbody tr th:only-of-type {\n",
              "        vertical-align: middle;\n",
              "    }\n",
              "\n",
              "    .dataframe tbody tr th {\n",
              "        vertical-align: top;\n",
              "    }\n",
              "\n",
              "    .dataframe thead th {\n",
              "        text-align: right;\n",
              "    }\n",
              "</style>\n",
              "<table border=\"1\" class=\"dataframe\">\n",
              "  <thead>\n",
              "    <tr style=\"text-align: right;\">\n",
              "      <th></th>\n",
              "      <th>Unnamed: 0</th>\n",
              "      <th>Date</th>\n",
              "      <th>AveragePrice</th>\n",
              "      <th>Total Volume</th>\n",
              "      <th>4046</th>\n",
              "      <th>4225</th>\n",
              "      <th>4770</th>\n",
              "      <th>Total Bags</th>\n",
              "      <th>Small Bags</th>\n",
              "      <th>Large Bags</th>\n",
              "      <th>XLarge Bags</th>\n",
              "      <th>type</th>\n",
              "      <th>year</th>\n",
              "      <th>region</th>\n",
              "    </tr>\n",
              "  </thead>\n",
              "  <tbody>\n",
              "    <tr>\n",
              "      <th>0</th>\n",
              "      <td>0</td>\n",
              "      <td>2015-12-27</td>\n",
              "      <td>1.33</td>\n",
              "      <td>64236.62</td>\n",
              "      <td>1036.74</td>\n",
              "      <td>54454.85</td>\n",
              "      <td>48.16</td>\n",
              "      <td>8696.87</td>\n",
              "      <td>8603.62</td>\n",
              "      <td>93.25</td>\n",
              "      <td>0.0</td>\n",
              "      <td>conventional</td>\n",
              "      <td>2015</td>\n",
              "      <td>Albany</td>\n",
              "    </tr>\n",
              "    <tr>\n",
              "      <th>1</th>\n",
              "      <td>1</td>\n",
              "      <td>2015-12-20</td>\n",
              "      <td>1.35</td>\n",
              "      <td>54876.98</td>\n",
              "      <td>674.28</td>\n",
              "      <td>44638.81</td>\n",
              "      <td>58.33</td>\n",
              "      <td>9505.56</td>\n",
              "      <td>9408.07</td>\n",
              "      <td>97.49</td>\n",
              "      <td>0.0</td>\n",
              "      <td>conventional</td>\n",
              "      <td>2015</td>\n",
              "      <td>Albany</td>\n",
              "    </tr>\n",
              "    <tr>\n",
              "      <th>2</th>\n",
              "      <td>2</td>\n",
              "      <td>2015-12-13</td>\n",
              "      <td>0.93</td>\n",
              "      <td>118220.22</td>\n",
              "      <td>794.70</td>\n",
              "      <td>109149.67</td>\n",
              "      <td>130.50</td>\n",
              "      <td>8145.35</td>\n",
              "      <td>8042.21</td>\n",
              "      <td>103.14</td>\n",
              "      <td>0.0</td>\n",
              "      <td>conventional</td>\n",
              "      <td>2015</td>\n",
              "      <td>Albany</td>\n",
              "    </tr>\n",
              "    <tr>\n",
              "      <th>3</th>\n",
              "      <td>3</td>\n",
              "      <td>2015-12-06</td>\n",
              "      <td>1.08</td>\n",
              "      <td>78992.15</td>\n",
              "      <td>1132.00</td>\n",
              "      <td>71976.41</td>\n",
              "      <td>72.58</td>\n",
              "      <td>5811.16</td>\n",
              "      <td>5677.40</td>\n",
              "      <td>133.76</td>\n",
              "      <td>0.0</td>\n",
              "      <td>conventional</td>\n",
              "      <td>2015</td>\n",
              "      <td>Albany</td>\n",
              "    </tr>\n",
              "    <tr>\n",
              "      <th>4</th>\n",
              "      <td>4</td>\n",
              "      <td>2015-11-29</td>\n",
              "      <td>1.28</td>\n",
              "      <td>51039.60</td>\n",
              "      <td>941.48</td>\n",
              "      <td>43838.39</td>\n",
              "      <td>75.78</td>\n",
              "      <td>6183.95</td>\n",
              "      <td>5986.26</td>\n",
              "      <td>197.69</td>\n",
              "      <td>0.0</td>\n",
              "      <td>conventional</td>\n",
              "      <td>2015</td>\n",
              "      <td>Albany</td>\n",
              "    </tr>\n",
              "    <tr>\n",
              "      <th>5</th>\n",
              "      <td>5</td>\n",
              "      <td>2015-11-22</td>\n",
              "      <td>1.26</td>\n",
              "      <td>55979.78</td>\n",
              "      <td>1184.27</td>\n",
              "      <td>48067.99</td>\n",
              "      <td>43.61</td>\n",
              "      <td>6683.91</td>\n",
              "      <td>6556.47</td>\n",
              "      <td>127.44</td>\n",
              "      <td>0.0</td>\n",
              "      <td>conventional</td>\n",
              "      <td>2015</td>\n",
              "      <td>Albany</td>\n",
              "    </tr>\n",
              "    <tr>\n",
              "      <th>6</th>\n",
              "      <td>6</td>\n",
              "      <td>2015-11-15</td>\n",
              "      <td>0.99</td>\n",
              "      <td>83453.76</td>\n",
              "      <td>1368.92</td>\n",
              "      <td>73672.72</td>\n",
              "      <td>93.26</td>\n",
              "      <td>8318.86</td>\n",
              "      <td>8196.81</td>\n",
              "      <td>122.05</td>\n",
              "      <td>0.0</td>\n",
              "      <td>conventional</td>\n",
              "      <td>2015</td>\n",
              "      <td>Albany</td>\n",
              "    </tr>\n",
              "    <tr>\n",
              "      <th>7</th>\n",
              "      <td>7</td>\n",
              "      <td>2015-11-08</td>\n",
              "      <td>0.98</td>\n",
              "      <td>109428.33</td>\n",
              "      <td>703.75</td>\n",
              "      <td>101815.36</td>\n",
              "      <td>80.00</td>\n",
              "      <td>6829.22</td>\n",
              "      <td>6266.85</td>\n",
              "      <td>562.37</td>\n",
              "      <td>0.0</td>\n",
              "      <td>conventional</td>\n",
              "      <td>2015</td>\n",
              "      <td>Albany</td>\n",
              "    </tr>\n",
              "    <tr>\n",
              "      <th>8</th>\n",
              "      <td>8</td>\n",
              "      <td>2015-11-01</td>\n",
              "      <td>1.02</td>\n",
              "      <td>99811.42</td>\n",
              "      <td>1022.15</td>\n",
              "      <td>87315.57</td>\n",
              "      <td>85.34</td>\n",
              "      <td>11388.36</td>\n",
              "      <td>11104.53</td>\n",
              "      <td>283.83</td>\n",
              "      <td>0.0</td>\n",
              "      <td>conventional</td>\n",
              "      <td>2015</td>\n",
              "      <td>Albany</td>\n",
              "    </tr>\n",
              "    <tr>\n",
              "      <th>9</th>\n",
              "      <td>9</td>\n",
              "      <td>2015-10-25</td>\n",
              "      <td>1.07</td>\n",
              "      <td>74338.76</td>\n",
              "      <td>842.40</td>\n",
              "      <td>64757.44</td>\n",
              "      <td>113.00</td>\n",
              "      <td>8625.92</td>\n",
              "      <td>8061.47</td>\n",
              "      <td>564.45</td>\n",
              "      <td>0.0</td>\n",
              "      <td>conventional</td>\n",
              "      <td>2015</td>\n",
              "      <td>Albany</td>\n",
              "    </tr>\n",
              "  </tbody>\n",
              "</table>\n",
              "</div>"
            ],
            "text/plain": [
              "   Unnamed: 0        Date  AveragePrice  ...          type  year  region\n",
              "0           0  2015-12-27          1.33  ...  conventional  2015  Albany\n",
              "1           1  2015-12-20          1.35  ...  conventional  2015  Albany\n",
              "2           2  2015-12-13          0.93  ...  conventional  2015  Albany\n",
              "3           3  2015-12-06          1.08  ...  conventional  2015  Albany\n",
              "4           4  2015-11-29          1.28  ...  conventional  2015  Albany\n",
              "5           5  2015-11-22          1.26  ...  conventional  2015  Albany\n",
              "6           6  2015-11-15          0.99  ...  conventional  2015  Albany\n",
              "7           7  2015-11-08          0.98  ...  conventional  2015  Albany\n",
              "8           8  2015-11-01          1.02  ...  conventional  2015  Albany\n",
              "9           9  2015-10-25          1.07  ...  conventional  2015  Albany\n",
              "\n",
              "[10 rows x 14 columns]"
            ]
          },
          "metadata": {},
          "execution_count": 9
        }
      ]
    },
    {
      "cell_type": "code",
      "metadata": {
        "colab": {
          "base_uri": "https://localhost:8080/"
        },
        "id": "RAbbZoDtSbYb",
        "outputId": "3b889793-28b5-4cdf-b93a-2158a1447985"
      },
      "source": [
        "# Informações gerais\n",
        "avocado_df.info()"
      ],
      "execution_count": null,
      "outputs": [
        {
          "output_type": "stream",
          "name": "stdout",
          "text": [
            "<class 'pandas.core.frame.DataFrame'>\n",
            "RangeIndex: 18249 entries, 0 to 18248\n",
            "Data columns (total 14 columns):\n",
            " #   Column        Non-Null Count  Dtype  \n",
            "---  ------        --------------  -----  \n",
            " 0   Unnamed: 0    18249 non-null  int64  \n",
            " 1   Date          18249 non-null  object \n",
            " 2   AveragePrice  18249 non-null  float64\n",
            " 3   Total Volume  18249 non-null  float64\n",
            " 4   4046          18249 non-null  float64\n",
            " 5   4225          18249 non-null  float64\n",
            " 6   4770          18249 non-null  float64\n",
            " 7   Total Bags    18249 non-null  float64\n",
            " 8   Small Bags    18249 non-null  float64\n",
            " 9   Large Bags    18249 non-null  float64\n",
            " 10  XLarge Bags   18249 non-null  float64\n",
            " 11  type          18249 non-null  object \n",
            " 12  year          18249 non-null  int64  \n",
            " 13  region        18249 non-null  object \n",
            "dtypes: float64(9), int64(2), object(3)\n",
            "memory usage: 1.9+ MB\n"
          ]
        }
      ]
    },
    {
      "cell_type": "markdown",
      "metadata": {
        "id": "fMk6xE1wR-xO"
      },
      "source": [
        "### **Tipos de variáveis** \n",
        "\n",
        "\n",
        "Uma variável pode ser **qualitativa** ou **quantitativa**\n",
        "\n",
        "*Quantitativa* pode ser **discreta** ou **contínua**\n",
        "\n",
        "*Qualitativa* pode ser **nominal** ou **ordinal**\n",
        "\n",
        "\n",
        "As variáveis relacionadas as colunas do dataset são:\n",
        "\n",
        "\n",
        " - `Date` - quantitativa discreta |  data de observação\n",
        " - `AveragePrice` - quantitativa contínua | preço médio de um abacate simples\n",
        " - `Total Volume` - quantitativa contínua | quantidade total de abacates vendidos\n",
        " - `4046` - quantitativa contínua | quantidade de abacates não-orgânicos de tamanho pequeno/médio (PLU 4046) vendidos\n",
        " - `4225` - quantitativa contínua | quantidade de abacates não-orgânicos de tamanho grande (PLU 4225) vendidos\n",
        " - `4770` - quantitativa contínua | quantidade de abacates não-orgânicos de tamanho extra grande (PLU 4770) vendido\n",
        " - `Total Bags` - quantitativa contínua\n",
        " - `Small Bags` - quantitativa contínua\n",
        " - `Large Bags` - quantitativa contínua\n",
        " - `XLarge Bags` - quantitativa contínua\n",
        " - `type` - qualitativa nominal | convencional ou orgânica \n",
        " - `year` - quantitiva discreta | ano\n",
        " - `region` - qualitativa nominal | região ou cidade onde os dados foram coletados\n",
        "\n"
      ]
    },
    {
      "cell_type": "code",
      "metadata": {
        "colab": {
          "base_uri": "https://localhost:8080/",
          "height": 297
        },
        "id": "NgurTSjuS1-c",
        "outputId": "71a5251c-c71d-4707-dd0c-285c6e376c7f"
      },
      "source": [
        "# Descrição estatística\n",
        "avocado_df.describe()"
      ],
      "execution_count": null,
      "outputs": [
        {
          "output_type": "execute_result",
          "data": {
            "text/html": [
              "<div>\n",
              "<style scoped>\n",
              "    .dataframe tbody tr th:only-of-type {\n",
              "        vertical-align: middle;\n",
              "    }\n",
              "\n",
              "    .dataframe tbody tr th {\n",
              "        vertical-align: top;\n",
              "    }\n",
              "\n",
              "    .dataframe thead th {\n",
              "        text-align: right;\n",
              "    }\n",
              "</style>\n",
              "<table border=\"1\" class=\"dataframe\">\n",
              "  <thead>\n",
              "    <tr style=\"text-align: right;\">\n",
              "      <th></th>\n",
              "      <th>Unnamed: 0</th>\n",
              "      <th>AveragePrice</th>\n",
              "      <th>Total Volume</th>\n",
              "      <th>4046</th>\n",
              "      <th>4225</th>\n",
              "      <th>4770</th>\n",
              "      <th>Total Bags</th>\n",
              "      <th>Small Bags</th>\n",
              "      <th>Large Bags</th>\n",
              "      <th>XLarge Bags</th>\n",
              "      <th>year</th>\n",
              "    </tr>\n",
              "  </thead>\n",
              "  <tbody>\n",
              "    <tr>\n",
              "      <th>count</th>\n",
              "      <td>18249.000000</td>\n",
              "      <td>18249.000000</td>\n",
              "      <td>1.824900e+04</td>\n",
              "      <td>1.824900e+04</td>\n",
              "      <td>1.824900e+04</td>\n",
              "      <td>1.824900e+04</td>\n",
              "      <td>1.824900e+04</td>\n",
              "      <td>1.824900e+04</td>\n",
              "      <td>1.824900e+04</td>\n",
              "      <td>18249.000000</td>\n",
              "      <td>18249.000000</td>\n",
              "    </tr>\n",
              "    <tr>\n",
              "      <th>mean</th>\n",
              "      <td>24.232232</td>\n",
              "      <td>1.405978</td>\n",
              "      <td>8.506440e+05</td>\n",
              "      <td>2.930084e+05</td>\n",
              "      <td>2.951546e+05</td>\n",
              "      <td>2.283974e+04</td>\n",
              "      <td>2.396392e+05</td>\n",
              "      <td>1.821947e+05</td>\n",
              "      <td>5.433809e+04</td>\n",
              "      <td>3106.426507</td>\n",
              "      <td>2016.147899</td>\n",
              "    </tr>\n",
              "    <tr>\n",
              "      <th>std</th>\n",
              "      <td>15.481045</td>\n",
              "      <td>0.402677</td>\n",
              "      <td>3.453545e+06</td>\n",
              "      <td>1.264989e+06</td>\n",
              "      <td>1.204120e+06</td>\n",
              "      <td>1.074641e+05</td>\n",
              "      <td>9.862424e+05</td>\n",
              "      <td>7.461785e+05</td>\n",
              "      <td>2.439660e+05</td>\n",
              "      <td>17692.894652</td>\n",
              "      <td>0.939938</td>\n",
              "    </tr>\n",
              "    <tr>\n",
              "      <th>min</th>\n",
              "      <td>0.000000</td>\n",
              "      <td>0.440000</td>\n",
              "      <td>8.456000e+01</td>\n",
              "      <td>0.000000e+00</td>\n",
              "      <td>0.000000e+00</td>\n",
              "      <td>0.000000e+00</td>\n",
              "      <td>0.000000e+00</td>\n",
              "      <td>0.000000e+00</td>\n",
              "      <td>0.000000e+00</td>\n",
              "      <td>0.000000</td>\n",
              "      <td>2015.000000</td>\n",
              "    </tr>\n",
              "    <tr>\n",
              "      <th>25%</th>\n",
              "      <td>10.000000</td>\n",
              "      <td>1.100000</td>\n",
              "      <td>1.083858e+04</td>\n",
              "      <td>8.540700e+02</td>\n",
              "      <td>3.008780e+03</td>\n",
              "      <td>0.000000e+00</td>\n",
              "      <td>5.088640e+03</td>\n",
              "      <td>2.849420e+03</td>\n",
              "      <td>1.274700e+02</td>\n",
              "      <td>0.000000</td>\n",
              "      <td>2015.000000</td>\n",
              "    </tr>\n",
              "    <tr>\n",
              "      <th>50%</th>\n",
              "      <td>24.000000</td>\n",
              "      <td>1.370000</td>\n",
              "      <td>1.073768e+05</td>\n",
              "      <td>8.645300e+03</td>\n",
              "      <td>2.906102e+04</td>\n",
              "      <td>1.849900e+02</td>\n",
              "      <td>3.974383e+04</td>\n",
              "      <td>2.636282e+04</td>\n",
              "      <td>2.647710e+03</td>\n",
              "      <td>0.000000</td>\n",
              "      <td>2016.000000</td>\n",
              "    </tr>\n",
              "    <tr>\n",
              "      <th>75%</th>\n",
              "      <td>38.000000</td>\n",
              "      <td>1.660000</td>\n",
              "      <td>4.329623e+05</td>\n",
              "      <td>1.110202e+05</td>\n",
              "      <td>1.502069e+05</td>\n",
              "      <td>6.243420e+03</td>\n",
              "      <td>1.107834e+05</td>\n",
              "      <td>8.333767e+04</td>\n",
              "      <td>2.202925e+04</td>\n",
              "      <td>132.500000</td>\n",
              "      <td>2017.000000</td>\n",
              "    </tr>\n",
              "    <tr>\n",
              "      <th>max</th>\n",
              "      <td>52.000000</td>\n",
              "      <td>3.250000</td>\n",
              "      <td>6.250565e+07</td>\n",
              "      <td>2.274362e+07</td>\n",
              "      <td>2.047057e+07</td>\n",
              "      <td>2.546439e+06</td>\n",
              "      <td>1.937313e+07</td>\n",
              "      <td>1.338459e+07</td>\n",
              "      <td>5.719097e+06</td>\n",
              "      <td>551693.650000</td>\n",
              "      <td>2018.000000</td>\n",
              "    </tr>\n",
              "  </tbody>\n",
              "</table>\n",
              "</div>"
            ],
            "text/plain": [
              "         Unnamed: 0  AveragePrice  ...    XLarge Bags          year\n",
              "count  18249.000000  18249.000000  ...   18249.000000  18249.000000\n",
              "mean      24.232232      1.405978  ...    3106.426507   2016.147899\n",
              "std       15.481045      0.402677  ...   17692.894652      0.939938\n",
              "min        0.000000      0.440000  ...       0.000000   2015.000000\n",
              "25%       10.000000      1.100000  ...       0.000000   2015.000000\n",
              "50%       24.000000      1.370000  ...       0.000000   2016.000000\n",
              "75%       38.000000      1.660000  ...     132.500000   2017.000000\n",
              "max       52.000000      3.250000  ...  551693.650000   2018.000000\n",
              "\n",
              "[8 rows x 11 columns]"
            ]
          },
          "metadata": {},
          "execution_count": 11
        }
      ]
    },
    {
      "cell_type": "code",
      "metadata": {
        "id": "c_Pp-vXtTZfA"
      },
      "source": [
        "avocado_df.drop(columns='Date', axis = 1, inplace = True)"
      ],
      "execution_count": null,
      "outputs": []
    },
    {
      "cell_type": "code",
      "metadata": {
        "colab": {
          "base_uri": "https://localhost:8080/"
        },
        "id": "jZUSG3G1b_Q_",
        "outputId": "7d0485c9-0380-4843-e248-e360cdd961b8"
      },
      "source": [
        "avocado_df.columns"
      ],
      "execution_count": null,
      "outputs": [
        {
          "output_type": "execute_result",
          "data": {
            "text/plain": [
              "Index(['Unnamed: 0', 'AveragePrice', 'Total Volume', '4046', '4225', '4770',\n",
              "       'Total Bags', 'Small Bags', 'Large Bags', 'XLarge Bags', 'type', 'year',\n",
              "       'region'],\n",
              "      dtype='object')"
            ]
          },
          "metadata": {},
          "execution_count": 13
        }
      ]
    },
    {
      "cell_type": "markdown",
      "metadata": {
        "id": "NoSv3OwvpCLp"
      },
      "source": [
        "##**Visualização dos dados**"
      ]
    },
    {
      "cell_type": "code",
      "metadata": {
        "id": "g8XDFWL1WKOp"
      },
      "source": [
        "import seaborn as sns\n"
      ],
      "execution_count": null,
      "outputs": []
    },
    {
      "cell_type": "code",
      "metadata": {
        "colab": {
          "base_uri": "https://localhost:8080/",
          "height": 747
        },
        "id": "sR3c1P7Th-lp",
        "outputId": "1f5d2568-fbfb-48bf-ef87-ca02188c63d5"
      },
      "source": [
        "sns.catplot(x=\"Total Volume\",y=\"region\",data=avocado_df, height=10, aspect=1.5,kind='bar')"
      ],
      "execution_count": null,
      "outputs": [
        {
          "output_type": "execute_result",
          "data": {
            "text/plain": [
              "<seaborn.axisgrid.FacetGrid at 0x7ff8ad7ae790>"
            ]
          },
          "metadata": {},
          "execution_count": 16
        },
        {
          "output_type": "display_data",
          "data": {
            "image/png": "[encoded data removed]",
            "text/plain": [
              "<Figure size 1080x720 with 1 Axes>"
            ]
          },
          "metadata": {
            "needs_background": "light"
          }
        }
      ]
    },
    {
      "cell_type": "code",
      "metadata": {
        "colab": {
          "base_uri": "https://localhost:8080/",
          "height": 333
        },
        "id": "NDWP2N3oWVkU",
        "outputId": "81cd07b5-af15-4192-a15b-00c73d9f8fe4"
      },
      "source": [
        "#distribuição de AveragePrice\n",
        "\n",
        "ax = sns.distplot(avocado_df.AveragePrice, color= 'r')"
      ],
      "execution_count": null,
      "outputs": [
        {
          "output_type": "stream",
          "name": "stderr",
          "text": [
            "/usr/local/lib/python3.7/dist-packages/seaborn/distributions.py:2557: FutureWarning: `distplot` is a deprecated function and will be removed in a future version. Please adapt your code to use either `displot` (a figure-level function with similar flexibility) or `histplot` (an axes-level function for histograms).\n",
            "  warnings.warn(msg, FutureWarning)\n"
          ]
        },
        {
          "output_type": "display_data",
          "data": {
            "image/png": "[encoded data removed]",
            "text/plain": [
              "<Figure size 432x288 with 1 Axes>"
            ]
          },
          "metadata": {
            "needs_background": "light"
          }
        }
      ]
    },
    {
      "cell_type": "code",
      "metadata": {
        "colab": {
          "base_uri": "https://localhost:8080/",
          "height": 307
        },
        "id": "6VHLUK6adg2s",
        "outputId": "c03c12d6-5d4d-4966-cf9b-a848f4c5b27e"
      },
      "source": [
        "sns.lineplot(data = avocado_df, \n",
        "x = \"year\", \n",
        "y = \"Total Volume\", color = 'g')"
      ],
      "execution_count": null,
      "outputs": [
        {
          "output_type": "execute_result",
          "data": {
            "text/plain": [
              "<matplotlib.axes._subplots.AxesSubplot at 0x7ff8a2bb27d0>"
            ]
          },
          "metadata": {},
          "execution_count": 19
        },
        {
          "output_type": "display_data",
          "data": {
            "image/png": "[encoded data removed]",
            "text/plain": [
              "<Figure size 432x288 with 1 Axes>"
            ]
          },
          "metadata": {
            "needs_background": "light"
          }
        }
      ]
    },
    {
      "cell_type": "code",
      "metadata": {
        "colab": {
          "base_uri": "https://localhost:8080/",
          "height": 400
        },
        "id": "UuenJk2lqxEi",
        "outputId": "0b6357b2-ac15-45fd-a5c6-59ab469be1ee"
      },
      "source": [
        "sns.catplot(x=\"year\", y=\"AveragePrice\", hue=\"type\",\n",
        "            kind=\"violin\", split=True, data=avocado_df)"
      ],
      "execution_count": null,
      "outputs": [
        {
          "output_type": "execute_result",
          "data": {
            "text/plain": [
              "<seaborn.axisgrid.FacetGrid at 0x7ff8a4c7a550>"
            ]
          },
          "metadata": {},
          "execution_count": 20
        },
        {
          "output_type": "display_data",
          "data": {
            "image/png": "[encoded data removed]",
            "text/plain": [
              "<Figure size 460.375x360 with 1 Axes>"
            ]
          },
          "metadata": {
            "needs_background": "light"
          }
        }
      ]
    },
    {
      "cell_type": "code",
      "metadata": {
        "colab": {
          "base_uri": "https://localhost:8080/",
          "height": 296
        },
        "id": "rq_vd1sPjltB",
        "outputId": "4488a684-af48-4731-8d4a-5409227b9ccd"
      },
      "source": [
        "sns.lineplot(x='year', y='AveragePrice', data=avocado_df, hue='type',ci=None )"
      ],
      "execution_count": null,
      "outputs": [
        {
          "output_type": "execute_result",
          "data": {
            "text/plain": [
              "<matplotlib.axes._subplots.AxesSubplot at 0x7ff8a2a95310>"
            ]
          },
          "metadata": {},
          "execution_count": 21
        },
        {
          "output_type": "display_data",
          "data": {
            "image/png": "[encoded data removed]",
            "text/plain": [
              "<Figure size 432x288 with 1 Axes>"
            ]
          },
          "metadata": {
            "needs_background": "light"
          }
        }
      ]
    },
    {
      "cell_type": "markdown",
      "metadata": {
        "id": "i3FDxY-jejJM"
      },
      "source": [
        "## **Transformação dos dados**\n",
        "\n"
      ]
    },
    {
      "cell_type": "code",
      "metadata": {
        "id": "jHon0sPqNxD2"
      },
      "source": [
        "#Renomeando colunas\n",
        "avocado_df.rename(columns={'4046':'QtdAvocado_NOrganic_pem',\n",
        "                   '4225':'QtdAvocado_NOrganic_g',\n",
        "                   '4770':'QtdAvocado_NOrganic_eg',\n",
        "                   'Total Volume':'TotalVolume',\n",
        "                   'Total Bags':'TotalBags',\n",
        "                   'Small Bags':'SmallBags',\n",
        "                   'Lage Bags':'LargeBags',\n",
        "                   'XLarge Bags':'XLargeBags'}, inplace=True)"
      ],
      "execution_count": null,
      "outputs": []
    },
    {
      "cell_type": "code",
      "metadata": {
        "colab": {
          "base_uri": "https://localhost:8080/",
          "height": 241
        },
        "id": "oLihuwkIQHH9",
        "outputId": "acb68e70-33f1-4c3b-c9d5-112a8e915f70"
      },
      "source": [
        "avocado_df.head(5)"
      ],
      "execution_count": null,
      "outputs": [
        {
          "output_type": "execute_result",
          "data": {
            "text/html": [
              "<div>\n",
              "<style scoped>\n",
              "    .dataframe tbody tr th:only-of-type {\n",
              "        vertical-align: middle;\n",
              "    }\n",
              "\n",
              "    .dataframe tbody tr th {\n",
              "        vertical-align: top;\n",
              "    }\n",
              "\n",
              "    .dataframe thead th {\n",
              "        text-align: right;\n",
              "    }\n",
              "</style>\n",
              "<table border=\"1\" class=\"dataframe\">\n",
              "  <thead>\n",
              "    <tr style=\"text-align: right;\">\n",
              "      <th></th>\n",
              "      <th>Unnamed: 0</th>\n",
              "      <th>AveragePrice</th>\n",
              "      <th>TotalVolume</th>\n",
              "      <th>QtdAvocado_NOrganic_pem</th>\n",
              "      <th>QtdAvocado_NOrganic_g</th>\n",
              "      <th>QtdAvocado_NOrganic_eg</th>\n",
              "      <th>TotalBags</th>\n",
              "      <th>SmallBags</th>\n",
              "      <th>Large Bags</th>\n",
              "      <th>XLargeBags</th>\n",
              "      <th>type</th>\n",
              "      <th>year</th>\n",
              "      <th>region</th>\n",
              "    </tr>\n",
              "  </thead>\n",
              "  <tbody>\n",
              "    <tr>\n",
              "      <th>0</th>\n",
              "      <td>0</td>\n",
              "      <td>1.33</td>\n",
              "      <td>64236.62</td>\n",
              "      <td>1036.74</td>\n",
              "      <td>54454.85</td>\n",
              "      <td>48.16</td>\n",
              "      <td>8696.87</td>\n",
              "      <td>8603.62</td>\n",
              "      <td>93.25</td>\n",
              "      <td>0.0</td>\n",
              "      <td>conventional</td>\n",
              "      <td>2015</td>\n",
              "      <td>Albany</td>\n",
              "    </tr>\n",
              "    <tr>\n",
              "      <th>1</th>\n",
              "      <td>1</td>\n",
              "      <td>1.35</td>\n",
              "      <td>54876.98</td>\n",
              "      <td>674.28</td>\n",
              "      <td>44638.81</td>\n",
              "      <td>58.33</td>\n",
              "      <td>9505.56</td>\n",
              "      <td>9408.07</td>\n",
              "      <td>97.49</td>\n",
              "      <td>0.0</td>\n",
              "      <td>conventional</td>\n",
              "      <td>2015</td>\n",
              "      <td>Albany</td>\n",
              "    </tr>\n",
              "    <tr>\n",
              "      <th>2</th>\n",
              "      <td>2</td>\n",
              "      <td>0.93</td>\n",
              "      <td>118220.22</td>\n",
              "      <td>794.70</td>\n",
              "      <td>109149.67</td>\n",
              "      <td>130.50</td>\n",
              "      <td>8145.35</td>\n",
              "      <td>8042.21</td>\n",
              "      <td>103.14</td>\n",
              "      <td>0.0</td>\n",
              "      <td>conventional</td>\n",
              "      <td>2015</td>\n",
              "      <td>Albany</td>\n",
              "    </tr>\n",
              "    <tr>\n",
              "      <th>3</th>\n",
              "      <td>3</td>\n",
              "      <td>1.08</td>\n",
              "      <td>78992.15</td>\n",
              "      <td>1132.00</td>\n",
              "      <td>71976.41</td>\n",
              "      <td>72.58</td>\n",
              "      <td>5811.16</td>\n",
              "      <td>5677.40</td>\n",
              "      <td>133.76</td>\n",
              "      <td>0.0</td>\n",
              "      <td>conventional</td>\n",
              "      <td>2015</td>\n",
              "      <td>Albany</td>\n",
              "    </tr>\n",
              "    <tr>\n",
              "      <th>4</th>\n",
              "      <td>4</td>\n",
              "      <td>1.28</td>\n",
              "      <td>51039.60</td>\n",
              "      <td>941.48</td>\n",
              "      <td>43838.39</td>\n",
              "      <td>75.78</td>\n",
              "      <td>6183.95</td>\n",
              "      <td>5986.26</td>\n",
              "      <td>197.69</td>\n",
              "      <td>0.0</td>\n",
              "      <td>conventional</td>\n",
              "      <td>2015</td>\n",
              "      <td>Albany</td>\n",
              "    </tr>\n",
              "  </tbody>\n",
              "</table>\n",
              "</div>"
            ],
            "text/plain": [
              "   Unnamed: 0  AveragePrice  TotalVolume  ...          type  year  region\n",
              "0           0          1.33     64236.62  ...  conventional  2015  Albany\n",
              "1           1          1.35     54876.98  ...  conventional  2015  Albany\n",
              "2           2          0.93    118220.22  ...  conventional  2015  Albany\n",
              "3           3          1.08     78992.15  ...  conventional  2015  Albany\n",
              "4           4          1.28     51039.60  ...  conventional  2015  Albany\n",
              "\n",
              "[5 rows x 13 columns]"
            ]
          },
          "metadata": {},
          "execution_count": 11
        }
      ]
    },
    {
      "cell_type": "code",
      "metadata": {
        "colab": {
          "base_uri": "https://localhost:8080/",
          "height": 241
        },
        "id": "EmkdXvOHr2my",
        "outputId": "8f90f7d2-7725-4316-bd6e-4980fe4b1b7a"
      },
      "source": [
        "#Transformando as váriaveis/colunas type e region em valores numéricos.\n",
        "from sklearn.preprocessing import LabelEncoder\n",
        "\n",
        "encoder = LabelEncoder()\n",
        "avocado_df['type'] = encoder.fit_transform(avocado_df['type'])\n",
        "avocado_df.head()\n"
      ],
      "execution_count": null,
      "outputs": [
        {
          "output_type": "execute_result",
          "data": {
            "text/html": [
              "<div>\n",
              "<style scoped>\n",
              "    .dataframe tbody tr th:only-of-type {\n",
              "        vertical-align: middle;\n",
              "    }\n",
              "\n",
              "    .dataframe tbody tr th {\n",
              "        vertical-align: top;\n",
              "    }\n",
              "\n",
              "    .dataframe thead th {\n",
              "        text-align: right;\n",
              "    }\n",
              "</style>\n",
              "<table border=\"1\" class=\"dataframe\">\n",
              "  <thead>\n",
              "    <tr style=\"text-align: right;\">\n",
              "      <th></th>\n",
              "      <th>Unnamed: 0</th>\n",
              "      <th>AveragePrice</th>\n",
              "      <th>TotalVolume</th>\n",
              "      <th>QtdAvocado_NOrganic_pem</th>\n",
              "      <th>QtdAvocado_NOrganic_g</th>\n",
              "      <th>QtdAvocado_NOrganic_eg</th>\n",
              "      <th>TotalBags</th>\n",
              "      <th>SmallBags</th>\n",
              "      <th>Large Bags</th>\n",
              "      <th>XLargeBags</th>\n",
              "      <th>type</th>\n",
              "      <th>year</th>\n",
              "      <th>region</th>\n",
              "    </tr>\n",
              "  </thead>\n",
              "  <tbody>\n",
              "    <tr>\n",
              "      <th>0</th>\n",
              "      <td>0</td>\n",
              "      <td>1.33</td>\n",
              "      <td>64236.62</td>\n",
              "      <td>1036.74</td>\n",
              "      <td>54454.85</td>\n",
              "      <td>48.16</td>\n",
              "      <td>8696.87</td>\n",
              "      <td>8603.62</td>\n",
              "      <td>93.25</td>\n",
              "      <td>0.0</td>\n",
              "      <td>0</td>\n",
              "      <td>2015</td>\n",
              "      <td>Albany</td>\n",
              "    </tr>\n",
              "    <tr>\n",
              "      <th>1</th>\n",
              "      <td>1</td>\n",
              "      <td>1.35</td>\n",
              "      <td>54876.98</td>\n",
              "      <td>674.28</td>\n",
              "      <td>44638.81</td>\n",
              "      <td>58.33</td>\n",
              "      <td>9505.56</td>\n",
              "      <td>9408.07</td>\n",
              "      <td>97.49</td>\n",
              "      <td>0.0</td>\n",
              "      <td>0</td>\n",
              "      <td>2015</td>\n",
              "      <td>Albany</td>\n",
              "    </tr>\n",
              "    <tr>\n",
              "      <th>2</th>\n",
              "      <td>2</td>\n",
              "      <td>0.93</td>\n",
              "      <td>118220.22</td>\n",
              "      <td>794.70</td>\n",
              "      <td>109149.67</td>\n",
              "      <td>130.50</td>\n",
              "      <td>8145.35</td>\n",
              "      <td>8042.21</td>\n",
              "      <td>103.14</td>\n",
              "      <td>0.0</td>\n",
              "      <td>0</td>\n",
              "      <td>2015</td>\n",
              "      <td>Albany</td>\n",
              "    </tr>\n",
              "    <tr>\n",
              "      <th>3</th>\n",
              "      <td>3</td>\n",
              "      <td>1.08</td>\n",
              "      <td>78992.15</td>\n",
              "      <td>1132.00</td>\n",
              "      <td>71976.41</td>\n",
              "      <td>72.58</td>\n",
              "      <td>5811.16</td>\n",
              "      <td>5677.40</td>\n",
              "      <td>133.76</td>\n",
              "      <td>0.0</td>\n",
              "      <td>0</td>\n",
              "      <td>2015</td>\n",
              "      <td>Albany</td>\n",
              "    </tr>\n",
              "    <tr>\n",
              "      <th>4</th>\n",
              "      <td>4</td>\n",
              "      <td>1.28</td>\n",
              "      <td>51039.60</td>\n",
              "      <td>941.48</td>\n",
              "      <td>43838.39</td>\n",
              "      <td>75.78</td>\n",
              "      <td>6183.95</td>\n",
              "      <td>5986.26</td>\n",
              "      <td>197.69</td>\n",
              "      <td>0.0</td>\n",
              "      <td>0</td>\n",
              "      <td>2015</td>\n",
              "      <td>Albany</td>\n",
              "    </tr>\n",
              "  </tbody>\n",
              "</table>\n",
              "</div>"
            ],
            "text/plain": [
              "   Unnamed: 0  AveragePrice  TotalVolume  ...  type  year  region\n",
              "0           0          1.33     64236.62  ...     0  2015  Albany\n",
              "1           1          1.35     54876.98  ...     0  2015  Albany\n",
              "2           2          0.93    118220.22  ...     0  2015  Albany\n",
              "3           3          1.08     78992.15  ...     0  2015  Albany\n",
              "4           4          1.28     51039.60  ...     0  2015  Albany\n",
              "\n",
              "[5 rows x 13 columns]"
            ]
          },
          "metadata": {},
          "execution_count": 26
        }
      ]
    },
    {
      "cell_type": "code",
      "metadata": {
        "colab": {
          "base_uri": "https://localhost:8080/",
          "height": 241
        },
        "id": "WDXllM3vs8Ih",
        "outputId": "020e5481-dda7-4fd2-f78c-89f6d274784a"
      },
      "source": [
        "from sklearn.preprocessing import LabelEncoder\n",
        "\n",
        "encoder = LabelEncoder()\n",
        "avocado_df['region'] = encoder.fit_transform(avocado_df['region'])\n",
        "avocado_df.head()"
      ],
      "execution_count": null,
      "outputs": [
        {
          "output_type": "execute_result",
          "data": {
            "text/html": [
              "<div>\n",
              "<style scoped>\n",
              "    .dataframe tbody tr th:only-of-type {\n",
              "        vertical-align: middle;\n",
              "    }\n",
              "\n",
              "    .dataframe tbody tr th {\n",
              "        vertical-align: top;\n",
              "    }\n",
              "\n",
              "    .dataframe thead th {\n",
              "        text-align: right;\n",
              "    }\n",
              "</style>\n",
              "<table border=\"1\" class=\"dataframe\">\n",
              "  <thead>\n",
              "    <tr style=\"text-align: right;\">\n",
              "      <th></th>\n",
              "      <th>Unnamed: 0</th>\n",
              "      <th>AveragePrice</th>\n",
              "      <th>TotalVolume</th>\n",
              "      <th>QtdAvocado_NOrganic_pem</th>\n",
              "      <th>QtdAvocado_NOrganic_g</th>\n",
              "      <th>QtdAvocado_NOrganic_eg</th>\n",
              "      <th>TotalBags</th>\n",
              "      <th>SmallBags</th>\n",
              "      <th>Large Bags</th>\n",
              "      <th>XLargeBags</th>\n",
              "      <th>type</th>\n",
              "      <th>year</th>\n",
              "      <th>region</th>\n",
              "    </tr>\n",
              "  </thead>\n",
              "  <tbody>\n",
              "    <tr>\n",
              "      <th>0</th>\n",
              "      <td>0</td>\n",
              "      <td>1.33</td>\n",
              "      <td>64236.62</td>\n",
              "      <td>1036.74</td>\n",
              "      <td>54454.85</td>\n",
              "      <td>48.16</td>\n",
              "      <td>8696.87</td>\n",
              "      <td>8603.62</td>\n",
              "      <td>93.25</td>\n",
              "      <td>0.0</td>\n",
              "      <td>0</td>\n",
              "      <td>2015</td>\n",
              "      <td>0</td>\n",
              "    </tr>\n",
              "    <tr>\n",
              "      <th>1</th>\n",
              "      <td>1</td>\n",
              "      <td>1.35</td>\n",
              "      <td>54876.98</td>\n",
              "      <td>674.28</td>\n",
              "      <td>44638.81</td>\n",
              "      <td>58.33</td>\n",
              "      <td>9505.56</td>\n",
              "      <td>9408.07</td>\n",
              "      <td>97.49</td>\n",
              "      <td>0.0</td>\n",
              "      <td>0</td>\n",
              "      <td>2015</td>\n",
              "      <td>0</td>\n",
              "    </tr>\n",
              "    <tr>\n",
              "      <th>2</th>\n",
              "      <td>2</td>\n",
              "      <td>0.93</td>\n",
              "      <td>118220.22</td>\n",
              "      <td>794.70</td>\n",
              "      <td>109149.67</td>\n",
              "      <td>130.50</td>\n",
              "      <td>8145.35</td>\n",
              "      <td>8042.21</td>\n",
              "      <td>103.14</td>\n",
              "      <td>0.0</td>\n",
              "      <td>0</td>\n",
              "      <td>2015</td>\n",
              "      <td>0</td>\n",
              "    </tr>\n",
              "    <tr>\n",
              "      <th>3</th>\n",
              "      <td>3</td>\n",
              "      <td>1.08</td>\n",
              "      <td>78992.15</td>\n",
              "      <td>1132.00</td>\n",
              "      <td>71976.41</td>\n",
              "      <td>72.58</td>\n",
              "      <td>5811.16</td>\n",
              "      <td>5677.40</td>\n",
              "      <td>133.76</td>\n",
              "      <td>0.0</td>\n",
              "      <td>0</td>\n",
              "      <td>2015</td>\n",
              "      <td>0</td>\n",
              "    </tr>\n",
              "    <tr>\n",
              "      <th>4</th>\n",
              "      <td>4</td>\n",
              "      <td>1.28</td>\n",
              "      <td>51039.60</td>\n",
              "      <td>941.48</td>\n",
              "      <td>43838.39</td>\n",
              "      <td>75.78</td>\n",
              "      <td>6183.95</td>\n",
              "      <td>5986.26</td>\n",
              "      <td>197.69</td>\n",
              "      <td>0.0</td>\n",
              "      <td>0</td>\n",
              "      <td>2015</td>\n",
              "      <td>0</td>\n",
              "    </tr>\n",
              "  </tbody>\n",
              "</table>\n",
              "</div>"
            ],
            "text/plain": [
              "   Unnamed: 0  AveragePrice  TotalVolume  ...  type  year  region\n",
              "0           0          1.33     64236.62  ...     0  2015       0\n",
              "1           1          1.35     54876.98  ...     0  2015       0\n",
              "2           2          0.93    118220.22  ...     0  2015       0\n",
              "3           3          1.08     78992.15  ...     0  2015       0\n",
              "4           4          1.28     51039.60  ...     0  2015       0\n",
              "\n",
              "[5 rows x 13 columns]"
            ]
          },
          "metadata": {},
          "execution_count": 27
        }
      ]
    },
    {
      "cell_type": "markdown",
      "metadata": {
        "id": "5W1m6BHGSMVX"
      },
      "source": [
        "### **Padronização dos dados**"
      ]
    },
    {
      "cell_type": "code",
      "metadata": {
        "id": "1odpSqf3X_Rz"
      },
      "source": [
        "# Importar o Standscaler da scikit-learn\n",
        "from sklearn.preprocessing import StandardScaler\n"
      ],
      "execution_count": null,
      "outputs": []
    },
    {
      "cell_type": "code",
      "metadata": {
        "id": "kjyr3ujAbuIV"
      },
      "source": [
        "# cria o objeto obj_std\n",
        "obj_std = StandardScaler().fit(avocado_df)"
      ],
      "execution_count": null,
      "outputs": []
    },
    {
      "cell_type": "code",
      "metadata": {
        "id": "9isqecFjcz_6"
      },
      "source": [
        "# aplica o padronizador nos dados\n",
        "avocado_std = obj_std.transform(avocado_df)"
      ],
      "execution_count": null,
      "outputs": []
    },
    {
      "cell_type": "code",
      "metadata": {
        "colab": {
          "base_uri": "https://localhost:8080/"
        },
        "id": "GGoUTYYfdBV1",
        "outputId": "bc0dc233-ddd6-4569-b8e1-16bcf05b4cef"
      },
      "source": [
        "# imprime os dados\n",
        "avocado_std"
      ],
      "execution_count": null,
      "outputs": [
        {
          "output_type": "execute_result",
          "data": {
            "text/plain": [
              "array([[-1.5653269 , -0.18868864, -0.22771641, ..., -0.99983562,\n",
              "        -1.22128204, -1.7002522 ],\n",
              "       [-1.50073001, -0.13901962, -0.23042664, ..., -0.99983562,\n",
              "        -1.22128204, -1.7002522 ],\n",
              "       [-1.43613312, -1.18206895, -0.21208462, ..., -0.99983562,\n",
              "        -1.22128204, -1.7002522 ],\n",
              "       ...,\n",
              "       [-0.98395486,  1.15237477, -0.24233073, ...,  1.00016441,\n",
              "         1.97050371,  1.70081131],\n",
              "       [-0.91935797,  1.30138182, -0.24162464, ...,  1.00016441,\n",
              "         1.97050371,  1.70081131],\n",
              "       [-0.85476108,  0.53151208, -0.24125273, ...,  1.00016441,\n",
              "         1.97050371,  1.70081131]])"
            ]
          },
          "metadata": {},
          "execution_count": 32
        }
      ]
    },
    {
      "cell_type": "code",
      "metadata": {
        "colab": {
          "base_uri": "https://localhost:8080/",
          "height": 374
        },
        "id": "F2L5r2S0dJ8P",
        "outputId": "1193a5b0-a2a8-4701-ce8c-684fc697a678"
      },
      "source": [
        "# visualizando o boxplot dos dados\n",
        "import seaborn as sns\n",
        "from matplotlib import pyplot as plt\n",
        "plt.figure(figsize=(10,6))\n",
        "\n",
        "ax = sns.boxplot(data=avocado_std)"
      ],
      "execution_count": null,
      "outputs": [
        {
          "output_type": "display_data",
          "data": {
            "image/png": "[encoded data removed]",
            "text/plain": [
              "<Figure size 720x432 with 1 Axes>"
            ]
          },
          "metadata": {
            "needs_background": "light"
          }
        }
      ]
    },
    {
      "cell_type": "code",
      "metadata": {
        "id": "uKzneoRkdjlS"
      },
      "source": [
        "# transforma em dataframe\n",
        "avocado_std = pd.DataFrame(avocado_std)"
      ],
      "execution_count": null,
      "outputs": []
    },
    {
      "cell_type": "code",
      "metadata": {
        "colab": {
          "base_uri": "https://localhost:8080/",
          "height": 402
        },
        "id": "TYI-vp5tdtuS",
        "outputId": "eced7d42-f659-4803-f571-11e5f0664bc1"
      },
      "source": [
        "# imprime as estatísticas descritivas do conjunto\n",
        "avocado_std.describe()"
      ],
      "execution_count": null,
      "outputs": [
        {
          "output_type": "execute_result",
          "data": {
            "text/html": [
              "<div>\n",
              "<style scoped>\n",
              "    .dataframe tbody tr th:only-of-type {\n",
              "        vertical-align: middle;\n",
              "    }\n",
              "\n",
              "    .dataframe tbody tr th {\n",
              "        vertical-align: top;\n",
              "    }\n",
              "\n",
              "    .dataframe thead th {\n",
              "        text-align: right;\n",
              "    }\n",
              "</style>\n",
              "<table border=\"1\" class=\"dataframe\">\n",
              "  <thead>\n",
              "    <tr style=\"text-align: right;\">\n",
              "      <th></th>\n",
              "      <th>0</th>\n",
              "      <th>1</th>\n",
              "      <th>2</th>\n",
              "      <th>3</th>\n",
              "      <th>4</th>\n",
              "      <th>5</th>\n",
              "      <th>6</th>\n",
              "      <th>7</th>\n",
              "      <th>8</th>\n",
              "      <th>9</th>\n",
              "      <th>10</th>\n",
              "      <th>11</th>\n",
              "      <th>12</th>\n",
              "    </tr>\n",
              "  </thead>\n",
              "  <tbody>\n",
              "    <tr>\n",
              "      <th>count</th>\n",
              "      <td>1.824900e+04</td>\n",
              "      <td>1.824900e+04</td>\n",
              "      <td>1.824900e+04</td>\n",
              "      <td>1.824900e+04</td>\n",
              "      <td>1.824900e+04</td>\n",
              "      <td>1.824900e+04</td>\n",
              "      <td>1.824900e+04</td>\n",
              "      <td>1.824900e+04</td>\n",
              "      <td>1.824900e+04</td>\n",
              "      <td>1.824900e+04</td>\n",
              "      <td>1.824900e+04</td>\n",
              "      <td>1.824900e+04</td>\n",
              "      <td>1.824900e+04</td>\n",
              "    </tr>\n",
              "    <tr>\n",
              "      <th>mean</th>\n",
              "      <td>1.091084e-15</td>\n",
              "      <td>-4.614985e-15</td>\n",
              "      <td>8.391160e-17</td>\n",
              "      <td>-6.334550e-16</td>\n",
              "      <td>-4.994878e-16</td>\n",
              "      <td>-8.318726e-15</td>\n",
              "      <td>3.591875e-16</td>\n",
              "      <td>-8.889054e-16</td>\n",
              "      <td>-2.891970e-15</td>\n",
              "      <td>-1.525511e-14</td>\n",
              "      <td>-5.158825e-14</td>\n",
              "      <td>-1.068036e-13</td>\n",
              "      <td>1.171997e-15</td>\n",
              "    </tr>\n",
              "    <tr>\n",
              "      <th>std</th>\n",
              "      <td>1.000027e+00</td>\n",
              "      <td>1.000027e+00</td>\n",
              "      <td>1.000027e+00</td>\n",
              "      <td>1.000027e+00</td>\n",
              "      <td>1.000027e+00</td>\n",
              "      <td>1.000027e+00</td>\n",
              "      <td>1.000027e+00</td>\n",
              "      <td>1.000027e+00</td>\n",
              "      <td>1.000027e+00</td>\n",
              "      <td>1.000027e+00</td>\n",
              "      <td>1.000027e+00</td>\n",
              "      <td>1.000027e+00</td>\n",
              "      <td>1.000027e+00</td>\n",
              "    </tr>\n",
              "    <tr>\n",
              "      <th>min</th>\n",
              "      <td>-1.565327e+00</td>\n",
              "      <td>-2.398960e+00</td>\n",
              "      <td>-2.462926e-01</td>\n",
              "      <td>-2.316356e-01</td>\n",
              "      <td>-2.451272e-01</td>\n",
              "      <td>-2.125395e-01</td>\n",
              "      <td>-2.429887e-01</td>\n",
              "      <td>-2.441771e-01</td>\n",
              "      <td>-2.227343e-01</td>\n",
              "      <td>-1.755796e-01</td>\n",
              "      <td>-9.998356e-01</td>\n",
              "      <td>-1.221282e+00</td>\n",
              "      <td>-1.700252e+00</td>\n",
              "    </tr>\n",
              "    <tr>\n",
              "      <th>25%</th>\n",
              "      <td>-9.193580e-01</td>\n",
              "      <td>-7.598823e-01</td>\n",
              "      <td>-2.431786e-01</td>\n",
              "      <td>-2.309604e-01</td>\n",
              "      <td>-2.426284e-01</td>\n",
              "      <td>-2.125395e-01</td>\n",
              "      <td>-2.378289e-01</td>\n",
              "      <td>-2.403583e-01</td>\n",
              "      <td>-2.222117e-01</td>\n",
              "      <td>-1.755796e-01</td>\n",
              "      <td>-9.998356e-01</td>\n",
              "      <td>-1.221282e+00</td>\n",
              "      <td>-8.660291e-01</td>\n",
              "    </tr>\n",
              "    <tr>\n",
              "      <th>50%</th>\n",
              "      <td>-1.500146e-02</td>\n",
              "      <td>-8.935061e-02</td>\n",
              "      <td>-2.152245e-01</td>\n",
              "      <td>-2.248011e-01</td>\n",
              "      <td>-2.209919e-01</td>\n",
              "      <td>-2.108181e-01</td>\n",
              "      <td>-2.026894e-01</td>\n",
              "      <td>-2.088456e-01</td>\n",
              "      <td>-2.118812e-01</td>\n",
              "      <td>-1.755796e-01</td>\n",
              "      <td>-9.998356e-01</td>\n",
              "      <td>-1.573535e-01</td>\n",
              "      <td>-3.180595e-02</td>\n",
              "    </tr>\n",
              "    <tr>\n",
              "      <th>75%</th>\n",
              "      <td>8.893551e-01</td>\n",
              "      <td>6.308501e-01</td>\n",
              "      <td>-1.209462e-01</td>\n",
              "      <td>-1.438694e-01</td>\n",
              "      <td>-1.203797e-01</td>\n",
              "      <td>-1.544402e-01</td>\n",
              "      <td>-1.306569e-01</td>\n",
              "      <td>-1.324880e-01</td>\n",
              "      <td>-1.324354e-01</td>\n",
              "      <td>-1.680905e-01</td>\n",
              "      <td>1.000164e+00</td>\n",
              "      <td>9.065751e-01</td>\n",
              "      <td>8.665882e-01</td>\n",
              "    </tr>\n",
              "    <tr>\n",
              "      <th>max</th>\n",
              "      <td>1.793712e+00</td>\n",
              "      <td>4.579537e+00</td>\n",
              "      <td>1.785316e+01</td>\n",
              "      <td>1.774816e+01</td>\n",
              "      <td>1.675578e+01</td>\n",
              "      <td>2.348384e+01</td>\n",
              "      <td>1.940093e+01</td>\n",
              "      <td>1.769383e+01</td>\n",
              "      <td>2.322010e+01</td>\n",
              "      <td>3.100692e+01</td>\n",
              "      <td>1.000164e+00</td>\n",
              "      <td>1.970504e+00</td>\n",
              "      <td>1.700811e+00</td>\n",
              "    </tr>\n",
              "  </tbody>\n",
              "</table>\n",
              "</div>"
            ],
            "text/plain": [
              "                 0             1   ...            11            12\n",
              "count  1.824900e+04  1.824900e+04  ...  1.824900e+04  1.824900e+04\n",
              "mean   1.091084e-15 -4.614985e-15  ... -1.068036e-13  1.171997e-15\n",
              "std    1.000027e+00  1.000027e+00  ...  1.000027e+00  1.000027e+00\n",
              "min   -1.565327e+00 -2.398960e+00  ... -1.221282e+00 -1.700252e+00\n",
              "25%   -9.193580e-01 -7.598823e-01  ... -1.221282e+00 -8.660291e-01\n",
              "50%   -1.500146e-02 -8.935061e-02  ... -1.573535e-01 -3.180595e-02\n",
              "75%    8.893551e-01  6.308501e-01  ...  9.065751e-01  8.665882e-01\n",
              "max    1.793712e+00  4.579537e+00  ...  1.970504e+00  1.700811e+00\n",
              "\n",
              "[8 rows x 13 columns]"
            ]
          },
          "metadata": {},
          "execution_count": 35
        }
      ]
    },
    {
      "cell_type": "markdown",
      "metadata": {
        "id": "arMQ31WXeE0N"
      },
      "source": [
        "### **Normalização dos dados**"
      ]
    },
    {
      "cell_type": "code",
      "metadata": {
        "id": "3jejelQGec13"
      },
      "source": [
        "# importa o MinMaxScaler\n",
        "from sklearn.preprocessing import MinMaxScaler"
      ],
      "execution_count": null,
      "outputs": []
    },
    {
      "cell_type": "code",
      "metadata": {
        "id": "p0eanUETefFP"
      },
      "source": [
        "# treina o algoritmo e cria o objeto obj_norm\n",
        "obj_norm = MinMaxScaler().fit(avocado_df)"
      ],
      "execution_count": null,
      "outputs": []
    },
    {
      "cell_type": "code",
      "metadata": {
        "id": "1FmuEMeDevjK"
      },
      "source": [
        "# aplica o normalizador\n",
        "avocado_norm = obj_norm.transform(avocado_df)"
      ],
      "execution_count": null,
      "outputs": []
    },
    {
      "cell_type": "code",
      "metadata": {
        "colab": {
          "base_uri": "https://localhost:8080/"
        },
        "id": "U1xd8fFefJr2",
        "outputId": "5bf693a4-a72b-4d0d-fb15-f1e74825ce24"
      },
      "source": [
        "avocado_norm"
      ],
      "execution_count": null,
      "outputs": [
        {
          "output_type": "execute_result",
          "data": {
            "text/plain": [
              "array([[0.00000000e+00, 3.16725979e-01, 1.02634162e-03, ...,\n",
              "        0.00000000e+00, 0.00000000e+00, 0.00000000e+00],\n",
              "       [1.92307692e-02, 3.23843416e-01, 8.76600710e-04, ...,\n",
              "        0.00000000e+00, 0.00000000e+00, 0.00000000e+00],\n",
              "       [3.84615385e-02, 1.74377224e-01, 1.89000237e-03, ...,\n",
              "        0.00000000e+00, 0.00000000e+00, 0.00000000e+00],\n",
              "       ...,\n",
              "       [1.73076923e-01, 5.08896797e-01, 2.18895720e-04, ...,\n",
              "        1.00000000e+00, 1.00000000e+00, 1.00000000e+00],\n",
              "       [1.92307692e-01, 5.30249110e-01, 2.57907608e-04, ...,\n",
              "        1.00000000e+00, 1.00000000e+00, 1.00000000e+00],\n",
              "       [2.11538462e-01, 4.19928826e-01, 2.78455540e-04, ...,\n",
              "        1.00000000e+00, 1.00000000e+00, 1.00000000e+00]])"
            ]
          },
          "metadata": {},
          "execution_count": 39
        }
      ]
    },
    {
      "cell_type": "code",
      "metadata": {
        "colab": {
          "base_uri": "https://localhost:8080/",
          "height": 374
        },
        "id": "1svr-FROfUuj",
        "outputId": "14503ce5-2299-4cbd-9ec5-138b3659dbff"
      },
      "source": [
        "# visualiza os boxplots\n",
        "import seaborn as sns\n",
        "from matplotlib import pyplot as plt\n",
        "plt.figure(figsize=(10,6))\n",
        "ax = sns.boxplot(data=avocado_norm)"
      ],
      "execution_count": null,
      "outputs": [
        {
          "output_type": "display_data",
          "data": {
            "image/png": "[encoded data removed]",
            "text/plain": [
              "<Figure size 720x432 with 1 Axes>"
            ]
          },
          "metadata": {
            "needs_background": "light"
          }
        }
      ]
    },
    {
      "cell_type": "code",
      "metadata": {
        "id": "-y6hcUUrfw5p"
      },
      "source": [
        "# transforma o numpy array para um dataframe\n",
        "avocado_norm = pd.DataFrame(avocado_norm)\n"
      ],
      "execution_count": null,
      "outputs": []
    },
    {
      "cell_type": "code",
      "metadata": {
        "colab": {
          "base_uri": "https://localhost:8080/",
          "height": 317
        },
        "id": "OyffT3pzf-et",
        "outputId": "b9ae7cfa-b13d-4661-8880-ade5a8965396"
      },
      "source": [
        "#estatística descritiva\n",
        "avocado_norm.describe()"
      ],
      "execution_count": null,
      "outputs": [
        {
          "output_type": "execute_result",
          "data": {
            "text/html": [
              "<div>\n",
              "<style scoped>\n",
              "    .dataframe tbody tr th:only-of-type {\n",
              "        vertical-align: middle;\n",
              "    }\n",
              "\n",
              "    .dataframe tbody tr th {\n",
              "        vertical-align: top;\n",
              "    }\n",
              "\n",
              "    .dataframe thead th {\n",
              "        text-align: right;\n",
              "    }\n",
              "</style>\n",
              "<table border=\"1\" class=\"dataframe\">\n",
              "  <thead>\n",
              "    <tr style=\"text-align: right;\">\n",
              "      <th></th>\n",
              "      <th>0</th>\n",
              "      <th>1</th>\n",
              "      <th>2</th>\n",
              "      <th>3</th>\n",
              "      <th>4</th>\n",
              "      <th>5</th>\n",
              "      <th>6</th>\n",
              "      <th>7</th>\n",
              "      <th>8</th>\n",
              "      <th>9</th>\n",
              "      <th>10</th>\n",
              "      <th>11</th>\n",
              "      <th>12</th>\n",
              "    </tr>\n",
              "  </thead>\n",
              "  <tbody>\n",
              "    <tr>\n",
              "      <th>count</th>\n",
              "      <td>18249.000000</td>\n",
              "      <td>18249.000000</td>\n",
              "      <td>18249.000000</td>\n",
              "      <td>18249.000000</td>\n",
              "      <td>18249.000000</td>\n",
              "      <td>18249.000000</td>\n",
              "      <td>18249.000000</td>\n",
              "      <td>18249.000000</td>\n",
              "      <td>18249.000000</td>\n",
              "      <td>18249.000000</td>\n",
              "      <td>18249.000000</td>\n",
              "      <td>18249.000000</td>\n",
              "      <td>18249.000000</td>\n",
              "    </tr>\n",
              "    <tr>\n",
              "      <th>mean</th>\n",
              "      <td>0.466004</td>\n",
              "      <td>0.343765</td>\n",
              "      <td>0.013608</td>\n",
              "      <td>0.012883</td>\n",
              "      <td>0.014418</td>\n",
              "      <td>0.008969</td>\n",
              "      <td>0.012370</td>\n",
              "      <td>0.013612</td>\n",
              "      <td>0.009501</td>\n",
              "      <td>0.005631</td>\n",
              "      <td>0.499918</td>\n",
              "      <td>0.382633</td>\n",
              "      <td>0.499918</td>\n",
              "    </tr>\n",
              "    <tr>\n",
              "      <th>std</th>\n",
              "      <td>0.297712</td>\n",
              "      <td>0.143301</td>\n",
              "      <td>0.055252</td>\n",
              "      <td>0.055620</td>\n",
              "      <td>0.058822</td>\n",
              "      <td>0.042202</td>\n",
              "      <td>0.050908</td>\n",
              "      <td>0.055749</td>\n",
              "      <td>0.042658</td>\n",
              "      <td>0.032070</td>\n",
              "      <td>0.500014</td>\n",
              "      <td>0.313313</td>\n",
              "      <td>0.294034</td>\n",
              "    </tr>\n",
              "    <tr>\n",
              "      <th>min</th>\n",
              "      <td>0.000000</td>\n",
              "      <td>0.000000</td>\n",
              "      <td>0.000000</td>\n",
              "      <td>0.000000</td>\n",
              "      <td>0.000000</td>\n",
              "      <td>0.000000</td>\n",
              "      <td>0.000000</td>\n",
              "      <td>0.000000</td>\n",
              "      <td>0.000000</td>\n",
              "      <td>0.000000</td>\n",
              "      <td>0.000000</td>\n",
              "      <td>0.000000</td>\n",
              "      <td>0.000000</td>\n",
              "    </tr>\n",
              "    <tr>\n",
              "      <th>25%</th>\n",
              "      <td>0.192308</td>\n",
              "      <td>0.234875</td>\n",
              "      <td>0.000172</td>\n",
              "      <td>0.000038</td>\n",
              "      <td>0.000147</td>\n",
              "      <td>0.000000</td>\n",
              "      <td>0.000263</td>\n",
              "      <td>0.000213</td>\n",
              "      <td>0.000022</td>\n",
              "      <td>0.000000</td>\n",
              "      <td>0.000000</td>\n",
              "      <td>0.000000</td>\n",
              "      <td>0.245283</td>\n",
              "    </tr>\n",
              "    <tr>\n",
              "      <th>50%</th>\n",
              "      <td>0.461538</td>\n",
              "      <td>0.330961</td>\n",
              "      <td>0.001717</td>\n",
              "      <td>0.000380</td>\n",
              "      <td>0.001420</td>\n",
              "      <td>0.000073</td>\n",
              "      <td>0.002051</td>\n",
              "      <td>0.001970</td>\n",
              "      <td>0.000463</td>\n",
              "      <td>0.000000</td>\n",
              "      <td>0.000000</td>\n",
              "      <td>0.333333</td>\n",
              "      <td>0.490566</td>\n",
              "    </tr>\n",
              "    <tr>\n",
              "      <th>75%</th>\n",
              "      <td>0.730769</td>\n",
              "      <td>0.434164</td>\n",
              "      <td>0.006925</td>\n",
              "      <td>0.004881</td>\n",
              "      <td>0.007338</td>\n",
              "      <td>0.002452</td>\n",
              "      <td>0.005718</td>\n",
              "      <td>0.006226</td>\n",
              "      <td>0.003852</td>\n",
              "      <td>0.000240</td>\n",
              "      <td>1.000000</td>\n",
              "      <td>0.666667</td>\n",
              "      <td>0.754717</td>\n",
              "    </tr>\n",
              "    <tr>\n",
              "      <th>max</th>\n",
              "      <td>1.000000</td>\n",
              "      <td>1.000000</td>\n",
              "      <td>1.000000</td>\n",
              "      <td>1.000000</td>\n",
              "      <td>1.000000</td>\n",
              "      <td>1.000000</td>\n",
              "      <td>1.000000</td>\n",
              "      <td>1.000000</td>\n",
              "      <td>1.000000</td>\n",
              "      <td>1.000000</td>\n",
              "      <td>1.000000</td>\n",
              "      <td>1.000000</td>\n",
              "      <td>1.000000</td>\n",
              "    </tr>\n",
              "  </tbody>\n",
              "</table>\n",
              "</div>"
            ],
            "text/plain": [
              "                 0             1   ...            11            12\n",
              "count  18249.000000  18249.000000  ...  18249.000000  18249.000000\n",
              "mean       0.466004      0.343765  ...      0.382633      0.499918\n",
              "std        0.297712      0.143301  ...      0.313313      0.294034\n",
              "min        0.000000      0.000000  ...      0.000000      0.000000\n",
              "25%        0.192308      0.234875  ...      0.000000      0.245283\n",
              "50%        0.461538      0.330961  ...      0.333333      0.490566\n",
              "75%        0.730769      0.434164  ...      0.666667      0.754717\n",
              "max        1.000000      1.000000  ...      1.000000      1.000000\n",
              "\n",
              "[8 rows x 13 columns]"
            ]
          },
          "metadata": {},
          "execution_count": 42
        }
      ]
    },
    {
      "cell_type": "markdown",
      "metadata": {
        "id": "uYwb0vYillFO"
      },
      "source": [
        "#**Correlações com valores normalizados e não normalizados** "
      ]
    },
    {
      "cell_type": "code",
      "metadata": {
        "colab": {
          "base_uri": "https://localhost:8080/",
          "height": 283
        },
        "id": "GQS05YrIcF48",
        "outputId": "ab1b3410-1997-4fc3-9d49-deea573a6c5a"
      },
      "source": [
        "# Com valores normalizados\n",
        "corr = avocado_norm.corr()\n",
        "corr\n",
        "import seaborn as sns \n",
        "cmap = sns.diverging_palette(230, 20, as_cmap=True)\n",
        "\n",
        "sns.heatmap(corr, cmap=\"plasma\", center=0, vmin=-1, vmax=1, \n",
        "            square=True, linewidths=.5, cbar_kws={\"shrink\": .5})\n"
      ],
      "execution_count": null,
      "outputs": [
        {
          "output_type": "execute_result",
          "data": {
            "text/plain": [
              "<matplotlib.axes._subplots.AxesSubplot at 0x7f1ac2f98fd0>"
            ]
          },
          "metadata": {},
          "execution_count": 141
        },
        {
          "output_type": "display_data",
          "data": {
            "image/png": "[encoded data removed]",
            "text/plain": [
              "<Figure size 432x288 with 2 Axes>"
            ]
          },
          "metadata": {
            "needs_background": "light"
          }
        }
      ]
    },
    {
      "cell_type": "code",
      "metadata": {
        "colab": {
          "base_uri": "https://localhost:8080/",
          "height": 495
        },
        "id": "hAlxc90AYswR",
        "outputId": "5fc7a504-9fb2-4f99-bb11-0099712f50a8"
      },
      "source": [
        "# Com valores não normalizados\n",
        "\n",
        "corr = avocado_df.corr()\n",
        "corr"
      ],
      "execution_count": null,
      "outputs": [
        {
          "output_type": "execute_result",
          "data": {
            "text/html": [
              "<div>\n",
              "<style scoped>\n",
              "    .dataframe tbody tr th:only-of-type {\n",
              "        vertical-align: middle;\n",
              "    }\n",
              "\n",
              "    .dataframe tbody tr th {\n",
              "        vertical-align: top;\n",
              "    }\n",
              "\n",
              "    .dataframe thead th {\n",
              "        text-align: right;\n",
              "    }\n",
              "</style>\n",
              "<table border=\"1\" class=\"dataframe\">\n",
              "  <thead>\n",
              "    <tr style=\"text-align: right;\">\n",
              "      <th></th>\n",
              "      <th>Unnamed: 0</th>\n",
              "      <th>AveragePrice</th>\n",
              "      <th>TotalVolume</th>\n",
              "      <th>QtdAvocado_NOrganic_pem</th>\n",
              "      <th>QtdAvocado_NOrganic_g</th>\n",
              "      <th>QtdAvocado_NOrganic_eg</th>\n",
              "      <th>TotalBags</th>\n",
              "      <th>SmallBags</th>\n",
              "      <th>Large Bags</th>\n",
              "      <th>XLargeBags</th>\n",
              "      <th>type</th>\n",
              "      <th>year</th>\n",
              "      <th>region</th>\n",
              "    </tr>\n",
              "  </thead>\n",
              "  <tbody>\n",
              "    <tr>\n",
              "      <th>Unnamed: 0</th>\n",
              "      <td>1.000000</td>\n",
              "      <td>-0.133008</td>\n",
              "      <td>0.014035</td>\n",
              "      <td>0.017628</td>\n",
              "      <td>0.019829</td>\n",
              "      <td>0.041752</td>\n",
              "      <td>-0.002219</td>\n",
              "      <td>0.000347</td>\n",
              "      <td>-0.009196</td>\n",
              "      <td>-0.011546</td>\n",
              "      <td>-0.000288</td>\n",
              "      <td>-0.171667</td>\n",
              "      <td>-0.000489</td>\n",
              "    </tr>\n",
              "    <tr>\n",
              "      <th>AveragePrice</th>\n",
              "      <td>-0.133008</td>\n",
              "      <td>1.000000</td>\n",
              "      <td>-0.192752</td>\n",
              "      <td>-0.208317</td>\n",
              "      <td>-0.172928</td>\n",
              "      <td>-0.179446</td>\n",
              "      <td>-0.177088</td>\n",
              "      <td>-0.174730</td>\n",
              "      <td>-0.172940</td>\n",
              "      <td>-0.117592</td>\n",
              "      <td>0.615845</td>\n",
              "      <td>0.093197</td>\n",
              "      <td>-0.011716</td>\n",
              "    </tr>\n",
              "    <tr>\n",
              "      <th>TotalVolume</th>\n",
              "      <td>0.014035</td>\n",
              "      <td>-0.192752</td>\n",
              "      <td>1.000000</td>\n",
              "      <td>0.977863</td>\n",
              "      <td>0.974181</td>\n",
              "      <td>0.872202</td>\n",
              "      <td>0.963047</td>\n",
              "      <td>0.967238</td>\n",
              "      <td>0.880640</td>\n",
              "      <td>0.747157</td>\n",
              "      <td>-0.232434</td>\n",
              "      <td>0.017193</td>\n",
              "      <td>0.174176</td>\n",
              "    </tr>\n",
              "    <tr>\n",
              "      <th>QtdAvocado_NOrganic_pem</th>\n",
              "      <td>0.017628</td>\n",
              "      <td>-0.208317</td>\n",
              "      <td>0.977863</td>\n",
              "      <td>1.000000</td>\n",
              "      <td>0.926110</td>\n",
              "      <td>0.833389</td>\n",
              "      <td>0.920057</td>\n",
              "      <td>0.925280</td>\n",
              "      <td>0.838645</td>\n",
              "      <td>0.699377</td>\n",
              "      <td>-0.225819</td>\n",
              "      <td>0.003353</td>\n",
              "      <td>0.192073</td>\n",
              "    </tr>\n",
              "    <tr>\n",
              "      <th>QtdAvocado_NOrganic_g</th>\n",
              "      <td>0.019829</td>\n",
              "      <td>-0.172928</td>\n",
              "      <td>0.974181</td>\n",
              "      <td>0.926110</td>\n",
              "      <td>1.000000</td>\n",
              "      <td>0.887855</td>\n",
              "      <td>0.905787</td>\n",
              "      <td>0.916031</td>\n",
              "      <td>0.810015</td>\n",
              "      <td>0.688809</td>\n",
              "      <td>-0.232289</td>\n",
              "      <td>-0.009559</td>\n",
              "      <td>0.145726</td>\n",
              "    </tr>\n",
              "    <tr>\n",
              "      <th>QtdAvocado_NOrganic_eg</th>\n",
              "      <td>0.041752</td>\n",
              "      <td>-0.179446</td>\n",
              "      <td>0.872202</td>\n",
              "      <td>0.833389</td>\n",
              "      <td>0.887855</td>\n",
              "      <td>1.000000</td>\n",
              "      <td>0.792314</td>\n",
              "      <td>0.802733</td>\n",
              "      <td>0.698471</td>\n",
              "      <td>0.679861</td>\n",
              "      <td>-0.210027</td>\n",
              "      <td>-0.036531</td>\n",
              "      <td>0.095252</td>\n",
              "    </tr>\n",
              "    <tr>\n",
              "      <th>TotalBags</th>\n",
              "      <td>-0.002219</td>\n",
              "      <td>-0.177088</td>\n",
              "      <td>0.963047</td>\n",
              "      <td>0.920057</td>\n",
              "      <td>0.905787</td>\n",
              "      <td>0.792314</td>\n",
              "      <td>1.000000</td>\n",
              "      <td>0.994335</td>\n",
              "      <td>0.943009</td>\n",
              "      <td>0.804233</td>\n",
              "      <td>-0.217788</td>\n",
              "      <td>0.071552</td>\n",
              "      <td>0.175256</td>\n",
              "    </tr>\n",
              "    <tr>\n",
              "      <th>SmallBags</th>\n",
              "      <td>0.000347</td>\n",
              "      <td>-0.174730</td>\n",
              "      <td>0.967238</td>\n",
              "      <td>0.925280</td>\n",
              "      <td>0.916031</td>\n",
              "      <td>0.802733</td>\n",
              "      <td>0.994335</td>\n",
              "      <td>1.000000</td>\n",
              "      <td>0.902589</td>\n",
              "      <td>0.806845</td>\n",
              "      <td>-0.220535</td>\n",
              "      <td>0.063915</td>\n",
              "      <td>0.164702</td>\n",
              "    </tr>\n",
              "    <tr>\n",
              "      <th>Large Bags</th>\n",
              "      <td>-0.009196</td>\n",
              "      <td>-0.172940</td>\n",
              "      <td>0.880640</td>\n",
              "      <td>0.838645</td>\n",
              "      <td>0.810015</td>\n",
              "      <td>0.698471</td>\n",
              "      <td>0.943009</td>\n",
              "      <td>0.902589</td>\n",
              "      <td>1.000000</td>\n",
              "      <td>0.710858</td>\n",
              "      <td>-0.193177</td>\n",
              "      <td>0.087891</td>\n",
              "      <td>0.198768</td>\n",
              "    </tr>\n",
              "    <tr>\n",
              "      <th>XLargeBags</th>\n",
              "      <td>-0.011546</td>\n",
              "      <td>-0.117592</td>\n",
              "      <td>0.747157</td>\n",
              "      <td>0.699377</td>\n",
              "      <td>0.688809</td>\n",
              "      <td>0.679861</td>\n",
              "      <td>0.804233</td>\n",
              "      <td>0.806845</td>\n",
              "      <td>0.710858</td>\n",
              "      <td>1.000000</td>\n",
              "      <td>-0.175483</td>\n",
              "      <td>0.081033</td>\n",
              "      <td>0.082281</td>\n",
              "    </tr>\n",
              "    <tr>\n",
              "      <th>type</th>\n",
              "      <td>-0.000288</td>\n",
              "      <td>0.615845</td>\n",
              "      <td>-0.232434</td>\n",
              "      <td>-0.225819</td>\n",
              "      <td>-0.232289</td>\n",
              "      <td>-0.210027</td>\n",
              "      <td>-0.217788</td>\n",
              "      <td>-0.220535</td>\n",
              "      <td>-0.193177</td>\n",
              "      <td>-0.175483</td>\n",
              "      <td>1.000000</td>\n",
              "      <td>-0.000032</td>\n",
              "      <td>-0.000280</td>\n",
              "    </tr>\n",
              "    <tr>\n",
              "      <th>year</th>\n",
              "      <td>-0.171667</td>\n",
              "      <td>0.093197</td>\n",
              "      <td>0.017193</td>\n",
              "      <td>0.003353</td>\n",
              "      <td>-0.009559</td>\n",
              "      <td>-0.036531</td>\n",
              "      <td>0.071552</td>\n",
              "      <td>0.063915</td>\n",
              "      <td>0.087891</td>\n",
              "      <td>0.081033</td>\n",
              "      <td>-0.000032</td>\n",
              "      <td>1.000000</td>\n",
              "      <td>-0.000055</td>\n",
              "    </tr>\n",
              "    <tr>\n",
              "      <th>region</th>\n",
              "      <td>-0.000489</td>\n",
              "      <td>-0.011716</td>\n",
              "      <td>0.174176</td>\n",
              "      <td>0.192073</td>\n",
              "      <td>0.145726</td>\n",
              "      <td>0.095252</td>\n",
              "      <td>0.175256</td>\n",
              "      <td>0.164702</td>\n",
              "      <td>0.198768</td>\n",
              "      <td>0.082281</td>\n",
              "      <td>-0.000280</td>\n",
              "      <td>-0.000055</td>\n",
              "      <td>1.000000</td>\n",
              "    </tr>\n",
              "  </tbody>\n",
              "</table>\n",
              "</div>"
            ],
            "text/plain": [
              "                         Unnamed: 0  AveragePrice  ...      year    region\n",
              "Unnamed: 0                 1.000000     -0.133008  ... -0.171667 -0.000489\n",
              "AveragePrice              -0.133008      1.000000  ...  0.093197 -0.011716\n",
              "TotalVolume                0.014035     -0.192752  ...  0.017193  0.174176\n",
              "QtdAvocado_NOrganic_pem    0.017628     -0.208317  ...  0.003353  0.192073\n",
              "QtdAvocado_NOrganic_g      0.019829     -0.172928  ... -0.009559  0.145726\n",
              "QtdAvocado_NOrganic_eg     0.041752     -0.179446  ... -0.036531  0.095252\n",
              "TotalBags                 -0.002219     -0.177088  ...  0.071552  0.175256\n",
              "SmallBags                  0.000347     -0.174730  ...  0.063915  0.164702\n",
              "Large Bags                -0.009196     -0.172940  ...  0.087891  0.198768\n",
              "XLargeBags                -0.011546     -0.117592  ...  0.081033  0.082281\n",
              "type                      -0.000288      0.615845  ... -0.000032 -0.000280\n",
              "year                      -0.171667      0.093197  ...  1.000000 -0.000055\n",
              "region                    -0.000489     -0.011716  ... -0.000055  1.000000\n",
              "\n",
              "[13 rows x 13 columns]"
            ]
          },
          "metadata": {},
          "execution_count": 142
        }
      ]
    },
    {
      "cell_type": "code",
      "metadata": {
        "colab": {
          "base_uri": "https://localhost:8080/",
          "height": 412
        },
        "id": "wBZzHiPWZBZb",
        "outputId": "6fba6d88-e298-4619-d354-66ca7dde8d0b"
      },
      "source": [
        "\n",
        "cmap = sns.diverging_palette(230, 20, as_cmap=True)\n",
        "\n",
        "sns.heatmap(corr, cmap=cmap, center=0, vmin=-1, vmax=1, \n",
        "            square=True, linewidths=.5, cbar_kws={\"shrink\": .5})"
      ],
      "execution_count": null,
      "outputs": [
        {
          "output_type": "execute_result",
          "data": {
            "text/plain": [
              "<matplotlib.axes._subplots.AxesSubplot at 0x7f1ac186bad0>"
            ]
          },
          "metadata": {},
          "execution_count": 143
        },
        {
          "output_type": "display_data",
          "data": {
            "image/png": "[encoded data removed]",
            "text/plain": [
              "<Figure size 432x288 with 2 Axes>"
            ]
          },
          "metadata": {
            "needs_background": "light"
          }
        }
      ]
    },
    {
      "cell_type": "markdown",
      "metadata": {
        "id": "z5iarnZeBuZY"
      },
      "source": [
        "# **Modelos de Machine Learning**"
      ]
    },
    {
      "cell_type": "markdown",
      "metadata": {
        "id": "MHj9EMAKXr_x"
      },
      "source": [
        "## Avocado convencional ou orgânico?"
      ]
    },
    {
      "cell_type": "code",
      "metadata": {
        "id": "jU_C7ccsCK0K"
      },
      "source": [
        "#Separando variáveis preditoras da variável alvo \n",
        "X = avocado_df.drop('type', axis= 1)\n",
        "\n",
        "y = avocado_df['type']"
      ],
      "execution_count": null,
      "outputs": []
    },
    {
      "cell_type": "code",
      "metadata": {
        "colab": {
          "base_uri": "https://localhost:8080/",
          "height": 241
        },
        "id": "pXVXAAQ0CmIl",
        "outputId": "28a46728-4c31-4260-f372-13da252037e3"
      },
      "source": [
        "X.head()\n"
      ],
      "execution_count": null,
      "outputs": [
        {
          "output_type": "execute_result",
          "data": {
            "text/html": [
              "<div>\n",
              "<style scoped>\n",
              "    .dataframe tbody tr th:only-of-type {\n",
              "        vertical-align: middle;\n",
              "    }\n",
              "\n",
              "    .dataframe tbody tr th {\n",
              "        vertical-align: top;\n",
              "    }\n",
              "\n",
              "    .dataframe thead th {\n",
              "        text-align: right;\n",
              "    }\n",
              "</style>\n",
              "<table border=\"1\" class=\"dataframe\">\n",
              "  <thead>\n",
              "    <tr style=\"text-align: right;\">\n",
              "      <th></th>\n",
              "      <th>Unnamed: 0</th>\n",
              "      <th>AveragePrice</th>\n",
              "      <th>TotalVolume</th>\n",
              "      <th>QtdAvocado_NOrganic_pem</th>\n",
              "      <th>QtdAvocado_NOrganic_g</th>\n",
              "      <th>QtdAvocado_NOrganic_eg</th>\n",
              "      <th>TotalBags</th>\n",
              "      <th>SmallBags</th>\n",
              "      <th>Large Bags</th>\n",
              "      <th>XLargeBags</th>\n",
              "      <th>year</th>\n",
              "      <th>region</th>\n",
              "    </tr>\n",
              "  </thead>\n",
              "  <tbody>\n",
              "    <tr>\n",
              "      <th>0</th>\n",
              "      <td>0</td>\n",
              "      <td>1.33</td>\n",
              "      <td>64236.62</td>\n",
              "      <td>1036.74</td>\n",
              "      <td>54454.85</td>\n",
              "      <td>48.16</td>\n",
              "      <td>8696.87</td>\n",
              "      <td>8603.62</td>\n",
              "      <td>93.25</td>\n",
              "      <td>0.0</td>\n",
              "      <td>2015</td>\n",
              "      <td>0</td>\n",
              "    </tr>\n",
              "    <tr>\n",
              "      <th>1</th>\n",
              "      <td>1</td>\n",
              "      <td>1.35</td>\n",
              "      <td>54876.98</td>\n",
              "      <td>674.28</td>\n",
              "      <td>44638.81</td>\n",
              "      <td>58.33</td>\n",
              "      <td>9505.56</td>\n",
              "      <td>9408.07</td>\n",
              "      <td>97.49</td>\n",
              "      <td>0.0</td>\n",
              "      <td>2015</td>\n",
              "      <td>0</td>\n",
              "    </tr>\n",
              "    <tr>\n",
              "      <th>2</th>\n",
              "      <td>2</td>\n",
              "      <td>0.93</td>\n",
              "      <td>118220.22</td>\n",
              "      <td>794.70</td>\n",
              "      <td>109149.67</td>\n",
              "      <td>130.50</td>\n",
              "      <td>8145.35</td>\n",
              "      <td>8042.21</td>\n",
              "      <td>103.14</td>\n",
              "      <td>0.0</td>\n",
              "      <td>2015</td>\n",
              "      <td>0</td>\n",
              "    </tr>\n",
              "    <tr>\n",
              "      <th>3</th>\n",
              "      <td>3</td>\n",
              "      <td>1.08</td>\n",
              "      <td>78992.15</td>\n",
              "      <td>1132.00</td>\n",
              "      <td>71976.41</td>\n",
              "      <td>72.58</td>\n",
              "      <td>5811.16</td>\n",
              "      <td>5677.40</td>\n",
              "      <td>133.76</td>\n",
              "      <td>0.0</td>\n",
              "      <td>2015</td>\n",
              "      <td>0</td>\n",
              "    </tr>\n",
              "    <tr>\n",
              "      <th>4</th>\n",
              "      <td>4</td>\n",
              "      <td>1.28</td>\n",
              "      <td>51039.60</td>\n",
              "      <td>941.48</td>\n",
              "      <td>43838.39</td>\n",
              "      <td>75.78</td>\n",
              "      <td>6183.95</td>\n",
              "      <td>5986.26</td>\n",
              "      <td>197.69</td>\n",
              "      <td>0.0</td>\n",
              "      <td>2015</td>\n",
              "      <td>0</td>\n",
              "    </tr>\n",
              "  </tbody>\n",
              "</table>\n",
              "</div>"
            ],
            "text/plain": [
              "   Unnamed: 0  AveragePrice  TotalVolume  ...  XLargeBags  year  region\n",
              "0           0          1.33     64236.62  ...         0.0  2015       0\n",
              "1           1          1.35     54876.98  ...         0.0  2015       0\n",
              "2           2          0.93    118220.22  ...         0.0  2015       0\n",
              "3           3          1.08     78992.15  ...         0.0  2015       0\n",
              "4           4          1.28     51039.60  ...         0.0  2015       0\n",
              "\n",
              "[5 rows x 12 columns]"
            ]
          },
          "metadata": {},
          "execution_count": 56
        }
      ]
    },
    {
      "cell_type": "code",
      "metadata": {
        "colab": {
          "base_uri": "https://localhost:8080/"
        },
        "id": "H2nKh8qhCp4u",
        "outputId": "77833014-43e8-44a8-a413-4a8761eb0370"
      },
      "source": [
        "\n",
        "y.head()"
      ],
      "execution_count": null,
      "outputs": [
        {
          "output_type": "execute_result",
          "data": {
            "text/plain": [
              "0    0\n",
              "1    0\n",
              "2    0\n",
              "3    0\n",
              "4    0\n",
              "Name: type, dtype: int64"
            ]
          },
          "metadata": {},
          "execution_count": 47
        }
      ]
    },
    {
      "cell_type": "code",
      "metadata": {
        "id": "wxfMjMPdCuKA"
      },
      "source": [
        "# Separando os dados em treino e teste\n",
        "from sklearn.model_selection import train_test_split\n",
        "\n",
        "X_treino, X_teste, y_treino, y_teste = train_test_split(X, y, test_size = 0.3, random_state=10)"
      ],
      "execution_count": null,
      "outputs": []
    },
    {
      "cell_type": "markdown",
      "metadata": {
        "id": "v7ZKeSJZNt3G"
      },
      "source": [
        "### Árvore de decisão com **DecisionTreeClassifier**"
      ]
    },
    {
      "cell_type": "code",
      "metadata": {
        "colab": {
          "base_uri": "https://localhost:8080/"
        },
        "id": "jL5qmJWGGXlS",
        "outputId": "6011e2bc-5aa7-43c5-df00-e4fde0e9811a"
      },
      "source": [
        "#Árvore de decisão \n",
        "\n",
        "from sklearn.tree import DecisionTreeClassifier\n",
        "\n",
        "model = DecisionTreeClassifier()\n",
        "\n",
        "#Treinando o modelo\n",
        "model.fit(X_treino, y_treino)"
      ],
      "execution_count": null,
      "outputs": [
        {
          "output_type": "execute_result",
          "data": {
            "text/plain": [
              "DecisionTreeClassifier(ccp_alpha=0.0, class_weight=None, criterion='gini',\n",
              "                       max_depth=None, max_features=None, max_leaf_nodes=None,\n",
              "                       min_impurity_decrease=0.0, min_impurity_split=None,\n",
              "                       min_samples_leaf=1, min_samples_split=2,\n",
              "                       min_weight_fraction_leaf=0.0, presort='deprecated',\n",
              "                       random_state=None, splitter='best')"
            ]
          },
          "metadata": {},
          "execution_count": 49
        }
      ]
    },
    {
      "cell_type": "code",
      "metadata": {
        "id": "6hyqyTK1GhDW"
      },
      "source": [
        "y_pred = model.predict(X_teste)\n"
      ],
      "execution_count": null,
      "outputs": []
    },
    {
      "cell_type": "code",
      "metadata": {
        "colab": {
          "base_uri": "https://localhost:8080/"
        },
        "id": "eS84RTL9GksJ",
        "outputId": "5ccb4197-f747-4c7c-f937-9a6021a5a257"
      },
      "source": [
        "from sklearn.metrics import accuracy_score\n",
        "\n",
        "accuracy_score(y_teste, y_pred)"
      ],
      "execution_count": null,
      "outputs": [
        {
          "output_type": "execute_result",
          "data": {
            "text/plain": [
              "0.9892237442922375"
            ]
          },
          "metadata": {},
          "execution_count": 51
        }
      ]
    },
    {
      "cell_type": "markdown",
      "metadata": {
        "id": "jItATU9mOAFr"
      },
      "source": [
        "### Modelo com **KNeighborsClassifier**"
      ]
    },
    {
      "cell_type": "code",
      "metadata": {
        "id": "YPS-brTYL19M"
      },
      "source": [
        "# treina um modelo KNN\n",
        "from sklearn.neighbors import KNeighborsClassifier"
      ],
      "execution_count": null,
      "outputs": []
    },
    {
      "cell_type": "code",
      "metadata": {
        "id": "-IR5S2H5L49i"
      },
      "source": [
        "# cria o objeto knn\n",
        "knn = KNeighborsClassifier()"
      ],
      "execution_count": null,
      "outputs": []
    },
    {
      "cell_type": "code",
      "metadata": {
        "colab": {
          "base_uri": "https://localhost:8080/"
        },
        "id": "qMnqcRhhL77S",
        "outputId": "ba66da6f-0a99-4c68-a477-997018ba0830"
      },
      "source": [
        "\n",
        "# treina os dados\n",
        "knn.fit(X_treino, y_treino)"
      ],
      "execution_count": null,
      "outputs": [
        {
          "output_type": "execute_result",
          "data": {
            "text/plain": [
              "KNeighborsClassifier(algorithm='auto', leaf_size=30, metric='minkowski',\n",
              "                     metric_params=None, n_jobs=None, n_neighbors=5, p=2,\n",
              "                     weights='uniform')"
            ]
          },
          "metadata": {},
          "execution_count": 58
        }
      ]
    },
    {
      "cell_type": "code",
      "metadata": {
        "id": "W3DxOschMIuJ"
      },
      "source": [
        "# atribui as classificações a variável resultados\n",
        "resultados = knn.predict(X_teste)"
      ],
      "execution_count": null,
      "outputs": []
    },
    {
      "cell_type": "code",
      "metadata": {
        "id": "0zPUV2n2MJgm"
      },
      "source": [
        "# carrega o pacote accuracy_score\n",
        "from sklearn.metrics import accuracy_score"
      ],
      "execution_count": null,
      "outputs": []
    },
    {
      "cell_type": "code",
      "metadata": {
        "id": "QN1m9O8-MNWQ"
      },
      "source": [
        "# cria a variável score\n",
        "score = accuracy_score(y_teste, resultados)"
      ],
      "execution_count": null,
      "outputs": []
    },
    {
      "cell_type": "code",
      "metadata": {
        "colab": {
          "base_uri": "https://localhost:8080/"
        },
        "id": "YhAUUz57M4Iu",
        "outputId": "25d177cc-66d6-443d-ba9a-6c77f1bb70f1"
      },
      "source": [
        "# imprime score (acurácia)\n",
        "score"
      ],
      "execution_count": null,
      "outputs": [
        {
          "output_type": "execute_result",
          "data": {
            "text/plain": [
              "0.9757077625570776"
            ]
          },
          "metadata": {},
          "execution_count": 62
        }
      ]
    },
    {
      "cell_type": "markdown",
      "metadata": {
        "id": "PI5gDEzBOMuM"
      },
      "source": [
        "### **Pipeline para modelo com dados após padronização**\n",
        "\n"
      ]
    },
    {
      "cell_type": "code",
      "metadata": {
        "id": "gnJb4E9LNAU1"
      },
      "source": [
        "# importa o pacote do pipeline\n",
        "from sklearn.pipeline import Pipeline"
      ],
      "execution_count": null,
      "outputs": []
    },
    {
      "cell_type": "code",
      "metadata": {
        "id": "gQD_Qbr3NDI0"
      },
      "source": [
        "# carrega os pacotes\n",
        "from sklearn.preprocessing import StandardScaler, MinMaxScaler"
      ],
      "execution_count": null,
      "outputs": []
    },
    {
      "cell_type": "code",
      "metadata": {
        "id": "oLKj24bdNGJR"
      },
      "source": [
        "from sklearn import svm"
      ],
      "execution_count": null,
      "outputs": []
    },
    {
      "cell_type": "code",
      "metadata": {
        "id": "uo1ePYVjNHD_"
      },
      "source": [
        "# cria os pipelines\n",
        "pip_std = Pipeline([('scaler', StandardScaler()),\n",
        "                    ('KNN', KNeighborsClassifier())\n",
        "                   ])\n",
        "\n",
        "pip_minmax = Pipeline([('minmax', MinMaxScaler()),\n",
        "                       ('KNN', KNeighborsClassifier())\n",
        "                      ])\n",
        "\n",
        "pip_std_svm = Pipeline([('scaler', StandardScaler()),\n",
        "                       ('KNN', svm.SVC())\n",
        "                      ])\n",
        "pip_minmax_svm = Pipeline([('minmax', MinMaxScaler()),\n",
        "                       ('KNN', svm.SVC())\n",
        "                      ])"
      ],
      "execution_count": null,
      "outputs": []
    },
    {
      "cell_type": "code",
      "metadata": {
        "colab": {
          "base_uri": "https://localhost:8080/"
        },
        "id": "i7Md77nKNb5-",
        "outputId": "4d35384f-edf0-4589-8460-3051a597ed97"
      },
      "source": [
        "# executa o pipeline pip_std\n",
        "pip_std.fit(X_treino, y_treino)"
      ],
      "execution_count": null,
      "outputs": [
        {
          "output_type": "execute_result",
          "data": {
            "text/plain": [
              "Pipeline(memory=None,\n",
              "         steps=[('scaler',\n",
              "                 StandardScaler(copy=True, with_mean=True, with_std=True)),\n",
              "                ('KNN',\n",
              "                 KNeighborsClassifier(algorithm='auto', leaf_size=30,\n",
              "                                      metric='minkowski', metric_params=None,\n",
              "                                      n_jobs=None, n_neighbors=5, p=2,\n",
              "                                      weights='uniform'))],\n",
              "         verbose=False)"
            ]
          },
          "metadata": {},
          "execution_count": 69
        }
      ]
    },
    {
      "cell_type": "code",
      "metadata": {
        "colab": {
          "base_uri": "https://localhost:8080/"
        },
        "id": "Jnt7wCmZNlQx",
        "outputId": "2cee3eb8-bd88-4131-f510-9a0ef61d2841"
      },
      "source": [
        "# imprime o score\n",
        "pip_std.score(X_teste, y_teste)"
      ],
      "execution_count": null,
      "outputs": [
        {
          "output_type": "execute_result",
          "data": {
            "text/plain": [
              "0.932054794520548"
            ]
          },
          "metadata": {},
          "execution_count": 70
        }
      ]
    },
    {
      "cell_type": "markdown",
      "metadata": {
        "id": "pmImw20LZsvf"
      },
      "source": [
        "#***Até a próxima!***\n",
        "\n",
        "<p><img alt=\"avocado\" height=\"250px\" src= https://cdn.dribbble.com/users/1771704/screenshots/4283670/avocado.gif align=\"center\"></p>"
      ]
    },
    {
      "cell_type": "markdown",
      "metadata": {
        "id": "0gJ8c8bmOdz6"
      },
      "source": [
        "# Referências\n",
        "\n",
        "- https://github.com/mariacmartins/shepy\n",
        "- https://github.com/stacktecnologias/stack-repo/blob/master/Normalization_Standartization_qual_utilizar.ipynb\n",
        "-https://drive.google.com/drive/folders/1mBU6duRQzmHlit0CHewZrjX5gkDMTTll?usp=sharing"
      ]
    },
    {
      "cell_type": "markdown",
      "metadata": {
        "id": "qf-sW0V4tm49"
      },
      "source": [
        "Muito satisfatório, ótimo storytelling, com imagens ilustrativas e código bem feito e explicado"
      ]
    }
  ]
}